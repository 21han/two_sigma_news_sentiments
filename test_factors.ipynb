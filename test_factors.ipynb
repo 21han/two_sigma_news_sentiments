{
 "cells": [
  {
   "cell_type": "markdown",
   "metadata": {},
   "source": [
    "###  Update From 12/29\n",
    "#### Zihan\n",
    "\n",
    "+ revised single factor into generic evaluations - [done]\n",
    "+ for each feature, compute the sharpe ratio for cutoff ranging from 0.5 to 0.9 [done]\n",
    "+ generate binary feature out of the previous computed mappings [done]\n",
    "+ don't think adding article and alert would be helpful - will explain in person\n",
    "+ aggregate sentiment into weekly and biweekly \n"
   ]
  },
  {
   "cell_type": "code",
   "execution_count": 13,
   "metadata": {},
   "outputs": [],
   "source": [
    "import pandas as pd\n",
    "import numpy as np\n",
    "import matplotlib.pyplot as plt\n",
    "import pickle\n",
    "import operator\n",
    "\n",
    "with open('sectorMapping.pkl', 'rb') as f:\n",
    "    sectorMapping = pickle.load(f)\n",
    "\n",
    "# google drive link: https://drive.google.com/file/d/1IcuteDnhzD9xfkfVuUJrCEOFiFstzxF_/view?usp=sharing\n",
    "df = pd.read_csv(\"ALL.csv\")\n",
    "df = df[abs(df.returnsOpenNextMktres10) < 0.40] # remove outlier\n",
    "df['sector'] = df.assetCode.apply(lambda x: sectorMapping[x.split(\".\")[0]]) # create sector column"
   ]
  },
  {
   "cell_type": "code",
   "execution_count": 138,
   "metadata": {},
   "outputs": [],
   "source": [
    "# single factor evaluation in a functional way\n",
    "\n",
    "'''\n",
    "helper function for single_factor_eva: top cut_off % short, else long\n",
    "'''\n",
    "def single_factor_helper(df, score, cut_off):\n",
    "    d = {}\n",
    "    sorted_df = df.sort_values(score).reset_index(drop=True)\n",
    "    index = int(len(sorted_df) * cut_off)\n",
    "    short_portfolio = np.mean(sorted_df['returnsOpenNextMktres10'][:index])\n",
    "    long_portfolio = np.mean(sorted_df['returnsOpenNextMktres10'][index:])\n",
    "    d['daily_return'] = long_portfolio - short_portfolio\n",
    "    return pd.Series(d, index=['daily_return'])\n",
    "\n",
    "'''\n",
    "evaluate how well a single factor performs given its column name and a cutoff\n",
    "    e.g. when cutoff is set to be 0.9, it means we short top 10%, and long 90%\n",
    "@param cut_off float\n",
    "@param score str name of the factor\n",
    "@param df dataframe which must contain score column and returnsOpenNextMktres10\n",
    "return NaN only plot and statistics\n",
    "'''\n",
    "def single_factor_eva(df, score, cut_off=0.5, sector_code=None, all_on=False):\n",
    "    \n",
    "    print(\"\\n *** evaluating factor :\", score)\n",
    "    if sector_code != None:\n",
    "        print(\"\\n *** sector: \", sector_code)\n",
    "        factor_return = df.groupby('datetime').apply(lambda x: single_factor_helper(x, score, cut_off))\n",
    "        sector_return = df.groupby('datetime').apply(lambda x: single_factor_helper(x[x.sector == sector_code], score, cut_off))\n",
    "        print(\" *** Overall Sharpe ratio:\", float(factor_return.mean() / factor_return.std()))\n",
    "        print(\" *** Sector Sharpe ratio:\", float(sector_return.mean() / sector_return.std()))\n",
    "        factor_return['cumsum'] = factor_return.daily_return.cumsum()\n",
    "        sector_return['cumsum'] = sector_return.daily_return.cumsum()\n",
    "        plt.figure()\n",
    "        plt.plot(list(factor_return['cumsum']), label = score+\"_\"+str(cut_off))\n",
    "        plt.plot(list(sector_return['cumsum']), label = score+\"_\"+str(cut_off)+\"_sector_\" +str(sector_code))\n",
    "        plt.legend()\n",
    "        plt.savefig(score+\"_\"+str(cut_off)+\"_sector_\" +str(sector_code) +'.png')\n",
    "        plt.show()\n",
    "        return\n",
    "    \n",
    "    if all_on:\n",
    "        plt.figure()\n",
    "        cutoff_sharpe_dict = dict()\n",
    "        df_group = df.groupby('datetime')\n",
    "        for i in [0.1 * i for i in range(1, 10)]:\n",
    "            print(i)\n",
    "            cutoff_return = df_group.apply(lambda x: single_factor_helper(x, score, i))\n",
    "            cutoff_sharpe_dict[round(i, 1)] = float(cutoff_return.mean() / cutoff_return.std())\n",
    "            cutoff_return['cumsum'] = cutoff_return.daily_return.cumsum()\n",
    "            plt.plot(list(cutoff_return['cumsum']), label = str(int(i * 100))+\"%\")\n",
    "        plt.legend()\n",
    "        title = \"\"\n",
    "        for key in cutoff_sharpe_dict:\n",
    "            title = title + str(key) + \": \" + str(round(cutoff_sharpe_dict[key], 3)) + \"\\n\"\n",
    "        plt.title(score+\":\\n\"+title)\n",
    "        plt.savefig('./cutoff_images_v2/' + score + '.png', bbox_inches='tight')\n",
    "        plt.show()    \n",
    "        return cutoff_sharpe_dict\n",
    "    \n",
    "    factor_return = df.groupby('datetime').apply(lambda x: single_factor_helper(x, score, cut_off))\n",
    "    factor_return['cumsum'] = factor_return.daily_return.cumsum()\n",
    "    plt.figure()\n",
    "    plt.plot(list(factor_return['cumsum']), label = score+\"_\"+str(int(cut_off * 100))+\"%\")\n",
    "    plt.legend()\n",
    "    plt.savefig(score+\"_\"+str(cut_off)+'.png')\n",
    "    plt.show()  "
   ]
  },
  {
   "cell_type": "markdown",
   "metadata": {},
   "source": [
    "### Examine Sector In and Out Performance with various cutoffs"
   ]
  },
  {
   "cell_type": "code",
   "execution_count": 6,
   "metadata": {},
   "outputs": [],
   "source": [
    "examine_ls = [ 'alert_relevance_weighted_sentiment',\n",
    "       'alert_relevance_weighted_negative_sentiment',\n",
    "       'alert_relevance_weighted_positive_sentiment',\n",
    "       'alert_relevance_weighted_neutral_sentiment',\n",
    "       'alert_news_volume_sum_12H', 'alert_news_novelty_sum_12H',\n",
    "       'alert_news_volume_sum_24H', 'alert_news_novelty_sum_24H',\n",
    "       'alert_news_volume_sum_3D', 'alert_news_novelty_sum_3D',\n",
    "       'alert_news_volume_sum_5D', 'alert_news_novelty_sum_5D',\n",
    "       'alert_news_volume_sum_7D', 'alert_news_novelty_sum_7D',\n",
    "       'article_relevance_weighted_sentiment',\n",
    "       'article_relevance_weighted_negative_sentiment',\n",
    "       'article_relevance_weighted_positive_sentiment',\n",
    "       'article_relevance_weighted_neutral_sentiment',\n",
    "       'article_news_volume_sum_12H', 'article_news_novelty_sum_12H',\n",
    "       'article_news_volume_sum_24H', 'article_news_novelty_sum_24H',\n",
    "       'article_news_volume_sum_3D', 'article_news_novelty_sum_3D',\n",
    "       'article_news_volume_sum_5D', 'article_news_novelty_sum_5D',\n",
    "       'article_news_volume_sum_7D', 'article_news_novelty_sum_7D',\n",
    "       'relevance_weighted_sentiment', 'relevance_weighted_negative_sentiment',\n",
    "       'relevance_weighted_positive_sentiment',\n",
    "       'relevance_weighted_neutral_sentiment', 'news_volume_sum_12H',\n",
    "       'news_novelty_sum_12H', 'news_volume_sum_24H', 'news_novelty_sum_24H',\n",
    "       'news_volume_sum_3D', 'news_novelty_sum_3D', 'news_volume_sum_5D',\n",
    "       'news_novelty_sum_5D', 'news_volume_sum_7D', 'news_novelty_sum_7D']"
   ]
  },
  {
   "cell_type": "code",
   "execution_count": 139,
   "metadata": {},
   "outputs": [
    {
     "name": "stdout",
     "output_type": "stream",
     "text": [
      "\n",
      " *** evaluating factor : alert_relevance_weighted_sentiment\n",
      "0.1\n",
      "0.2\n",
      "0.30000000000000004\n",
      "0.4\n",
      "0.5\n",
      "0.6000000000000001\n",
      "0.7000000000000001\n",
      "0.8\n",
      "0.9\n",
      "\n",
      " *** evaluating factor : alert_relevance_weighted_negative_sentiment\n",
      "0.1\n",
      "0.2\n",
      "0.30000000000000004\n",
      "0.4\n",
      "0.5\n",
      "0.6000000000000001\n",
      "0.7000000000000001\n",
      "0.8\n",
      "0.9\n",
      "\n",
      " *** evaluating factor : alert_relevance_weighted_positive_sentiment\n",
      "0.1\n",
      "0.2\n",
      "0.30000000000000004\n",
      "0.4\n",
      "0.5\n",
      "0.6000000000000001\n",
      "0.7000000000000001\n",
      "0.8\n",
      "0.9\n",
      "\n",
      " *** evaluating factor : alert_relevance_weighted_neutral_sentiment\n",
      "0.1\n",
      "0.2\n",
      "0.30000000000000004\n",
      "0.4\n",
      "0.5\n",
      "0.6000000000000001\n",
      "0.7000000000000001\n",
      "0.8\n",
      "0.9\n",
      "\n",
      " *** evaluating factor : alert_news_volume_sum_12H\n",
      "0.1\n",
      "0.2\n",
      "0.30000000000000004\n",
      "0.4\n",
      "0.5\n",
      "0.6000000000000001\n",
      "0.7000000000000001\n",
      "0.8\n",
      "0.9\n",
      "\n",
      " *** evaluating factor : alert_news_novelty_sum_12H\n",
      "0.1\n",
      "0.2\n",
      "0.30000000000000004\n",
      "0.4\n",
      "0.5\n",
      "0.6000000000000001\n",
      "0.7000000000000001\n",
      "0.8\n",
      "0.9\n",
      "\n",
      " *** evaluating factor : alert_news_volume_sum_24H\n",
      "0.1\n",
      "0.2\n",
      "0.30000000000000004\n",
      "0.4\n",
      "0.5\n",
      "0.6000000000000001\n",
      "0.7000000000000001\n",
      "0.8\n",
      "0.9\n",
      "\n",
      " *** evaluating factor : alert_news_novelty_sum_24H\n",
      "0.1\n",
      "0.2\n",
      "0.30000000000000004\n",
      "0.4\n",
      "0.5\n",
      "0.6000000000000001\n",
      "0.7000000000000001\n",
      "0.8\n",
      "0.9\n",
      "\n",
      " *** evaluating factor : alert_news_volume_sum_3D\n",
      "0.1\n",
      "0.2\n",
      "0.30000000000000004\n",
      "0.4\n",
      "0.5\n",
      "0.6000000000000001\n",
      "0.7000000000000001\n",
      "0.8\n",
      "0.9\n",
      "\n",
      " *** evaluating factor : alert_news_novelty_sum_3D\n",
      "0.1\n",
      "0.2\n",
      "0.30000000000000004\n",
      "0.4\n",
      "0.5\n",
      "0.6000000000000001\n",
      "0.7000000000000001\n",
      "0.8\n",
      "0.9\n",
      "\n",
      " *** evaluating factor : alert_news_volume_sum_5D\n",
      "0.1\n",
      "0.2\n",
      "0.30000000000000004\n",
      "0.4\n",
      "0.5\n",
      "0.6000000000000001\n",
      "0.7000000000000001\n",
      "0.8\n",
      "0.9\n",
      "\n",
      " *** evaluating factor : alert_news_novelty_sum_5D\n",
      "0.1\n",
      "0.2\n",
      "0.30000000000000004\n",
      "0.4\n",
      "0.5\n",
      "0.6000000000000001\n",
      "0.7000000000000001\n",
      "0.8\n",
      "0.9\n",
      "\n",
      " *** evaluating factor : alert_news_volume_sum_7D\n",
      "0.1\n",
      "0.2\n",
      "0.30000000000000004\n",
      "0.4\n",
      "0.5\n",
      "0.6000000000000001\n",
      "0.7000000000000001\n",
      "0.8\n",
      "0.9\n",
      "\n",
      " *** evaluating factor : alert_news_novelty_sum_7D\n",
      "0.1\n",
      "0.2\n",
      "0.30000000000000004\n",
      "0.4\n",
      "0.5\n",
      "0.6000000000000001\n",
      "0.7000000000000001\n",
      "0.8\n",
      "0.9\n",
      "\n",
      " *** evaluating factor : article_relevance_weighted_sentiment\n",
      "0.1\n",
      "0.2\n",
      "0.30000000000000004\n",
      "0.4\n",
      "0.5\n",
      "0.6000000000000001\n",
      "0.7000000000000001\n",
      "0.8\n",
      "0.9\n",
      "\n",
      " *** evaluating factor : article_relevance_weighted_negative_sentiment\n",
      "0.1\n",
      "0.2\n",
      "0.30000000000000004\n",
      "0.4\n",
      "0.5\n",
      "0.6000000000000001\n",
      "0.7000000000000001\n",
      "0.8\n",
      "0.9\n",
      "\n",
      " *** evaluating factor : article_relevance_weighted_positive_sentiment\n",
      "0.1\n",
      "0.2\n",
      "0.30000000000000004\n",
      "0.4\n",
      "0.5\n",
      "0.6000000000000001\n",
      "0.7000000000000001\n",
      "0.8\n",
      "0.9\n",
      "\n",
      " *** evaluating factor : article_relevance_weighted_neutral_sentiment\n",
      "0.1\n",
      "0.2\n",
      "0.30000000000000004\n",
      "0.4\n",
      "0.5\n",
      "0.6000000000000001\n",
      "0.7000000000000001\n",
      "0.8\n",
      "0.9\n",
      "\n",
      " *** evaluating factor : article_news_volume_sum_12H\n",
      "0.1\n",
      "0.2\n",
      "0.30000000000000004\n",
      "0.4\n",
      "0.5\n",
      "0.6000000000000001\n",
      "0.7000000000000001\n",
      "0.8\n",
      "0.9\n",
      "\n",
      " *** evaluating factor : article_news_novelty_sum_12H\n",
      "0.1\n",
      "0.2\n",
      "0.30000000000000004\n",
      "0.4\n",
      "0.5\n",
      "0.6000000000000001\n",
      "0.7000000000000001\n",
      "0.8\n",
      "0.9\n",
      "\n",
      " *** evaluating factor : article_news_volume_sum_24H\n",
      "0.1\n"
     ]
    },
    {
     "name": "stderr",
     "output_type": "stream",
     "text": [
      "/Users/zihang/anaconda3/lib/python3.6/site-packages/matplotlib/pyplot.py:537: RuntimeWarning: More than 20 figures have been opened. Figures created through the pyplot interface (`matplotlib.pyplot.figure`) are retained until explicitly closed and may consume too much memory. (To control this warning, see the rcParam `figure.max_open_warning`).\n",
      "  max_open_warning, RuntimeWarning)\n"
     ]
    },
    {
     "name": "stdout",
     "output_type": "stream",
     "text": [
      "0.2\n",
      "0.30000000000000004\n",
      "0.4\n",
      "0.5\n",
      "0.6000000000000001\n",
      "0.7000000000000001\n",
      "0.8\n",
      "0.9\n",
      "\n",
      " *** evaluating factor : article_news_novelty_sum_24H\n",
      "0.1\n",
      "0.2\n",
      "0.30000000000000004\n",
      "0.4\n",
      "0.5\n",
      "0.6000000000000001\n",
      "0.7000000000000001\n",
      "0.8\n",
      "0.9\n",
      "\n",
      " *** evaluating factor : article_news_volume_sum_3D\n",
      "0.1\n",
      "0.2\n",
      "0.30000000000000004\n",
      "0.4\n",
      "0.5\n",
      "0.6000000000000001\n",
      "0.7000000000000001\n",
      "0.8\n",
      "0.9\n",
      "\n",
      " *** evaluating factor : article_news_novelty_sum_3D\n",
      "0.1\n",
      "0.2\n",
      "0.30000000000000004\n",
      "0.4\n",
      "0.5\n",
      "0.6000000000000001\n",
      "0.7000000000000001\n",
      "0.8\n",
      "0.9\n",
      "\n",
      " *** evaluating factor : article_news_volume_sum_5D\n",
      "0.1\n",
      "0.2\n",
      "0.30000000000000004\n",
      "0.4\n",
      "0.5\n",
      "0.6000000000000001\n",
      "0.7000000000000001\n",
      "0.8\n",
      "0.9\n",
      "\n",
      " *** evaluating factor : article_news_novelty_sum_5D\n",
      "0.1\n",
      "0.2\n",
      "0.30000000000000004\n",
      "0.4\n",
      "0.5\n",
      "0.6000000000000001\n",
      "0.7000000000000001\n",
      "0.8\n",
      "0.9\n",
      "\n",
      " *** evaluating factor : article_news_volume_sum_7D\n",
      "0.1\n",
      "0.2\n",
      "0.30000000000000004\n",
      "0.4\n",
      "0.5\n",
      "0.6000000000000001\n",
      "0.7000000000000001\n",
      "0.8\n",
      "0.9\n",
      "\n",
      " *** evaluating factor : article_news_novelty_sum_7D\n",
      "0.1\n",
      "0.2\n",
      "0.30000000000000004\n",
      "0.4\n",
      "0.5\n",
      "0.6000000000000001\n",
      "0.7000000000000001\n",
      "0.8\n",
      "0.9\n",
      "\n",
      " *** evaluating factor : relevance_weighted_sentiment\n",
      "0.1\n",
      "0.2\n",
      "0.30000000000000004\n",
      "0.4\n",
      "0.5\n",
      "0.6000000000000001\n",
      "0.7000000000000001\n",
      "0.8\n",
      "0.9\n",
      "\n",
      " *** evaluating factor : relevance_weighted_negative_sentiment\n",
      "0.1\n",
      "0.2\n",
      "0.30000000000000004\n",
      "0.4\n",
      "0.5\n",
      "0.6000000000000001\n",
      "0.7000000000000001\n",
      "0.8\n",
      "0.9\n",
      "\n",
      " *** evaluating factor : relevance_weighted_positive_sentiment\n",
      "0.1\n",
      "0.2\n",
      "0.30000000000000004\n",
      "0.4\n",
      "0.5\n",
      "0.6000000000000001\n",
      "0.7000000000000001\n",
      "0.8\n",
      "0.9\n",
      "\n",
      " *** evaluating factor : relevance_weighted_neutral_sentiment\n",
      "0.1\n",
      "0.2\n",
      "0.30000000000000004\n",
      "0.4\n",
      "0.5\n",
      "0.6000000000000001\n",
      "0.7000000000000001\n",
      "0.8\n",
      "0.9\n",
      "\n",
      " *** evaluating factor : news_volume_sum_12H\n",
      "0.1\n",
      "0.2\n",
      "0.30000000000000004\n",
      "0.4\n",
      "0.5\n",
      "0.6000000000000001\n",
      "0.7000000000000001\n",
      "0.8\n",
      "0.9\n",
      "\n",
      " *** evaluating factor : news_novelty_sum_12H\n",
      "0.1\n",
      "0.2\n",
      "0.30000000000000004\n",
      "0.4\n",
      "0.5\n",
      "0.6000000000000001\n",
      "0.7000000000000001\n",
      "0.8\n",
      "0.9\n",
      "\n",
      " *** evaluating factor : news_volume_sum_24H\n",
      "0.1\n",
      "0.2\n",
      "0.30000000000000004\n",
      "0.4\n",
      "0.5\n",
      "0.6000000000000001\n",
      "0.7000000000000001\n",
      "0.8\n",
      "0.9\n",
      "\n",
      " *** evaluating factor : news_novelty_sum_24H\n",
      "0.1\n",
      "0.2\n",
      "0.30000000000000004\n",
      "0.4\n",
      "0.5\n",
      "0.6000000000000001\n",
      "0.7000000000000001\n",
      "0.8\n",
      "0.9\n",
      "\n",
      " *** evaluating factor : news_volume_sum_3D\n",
      "0.1\n",
      "0.2\n",
      "0.30000000000000004\n",
      "0.4\n",
      "0.5\n",
      "0.6000000000000001\n",
      "0.7000000000000001\n",
      "0.8\n",
      "0.9\n",
      "\n",
      " *** evaluating factor : news_novelty_sum_3D\n",
      "0.1\n",
      "0.2\n",
      "0.30000000000000004\n",
      "0.4\n",
      "0.5\n",
      "0.6000000000000001\n",
      "0.7000000000000001\n",
      "0.8\n",
      "0.9\n",
      "\n",
      " *** evaluating factor : news_volume_sum_5D\n",
      "0.1\n",
      "0.2\n",
      "0.30000000000000004\n",
      "0.4\n",
      "0.5\n",
      "0.6000000000000001\n",
      "0.7000000000000001\n",
      "0.8\n",
      "0.9\n",
      "\n",
      " *** evaluating factor : news_novelty_sum_5D\n",
      "0.1\n",
      "0.2\n",
      "0.30000000000000004\n",
      "0.4\n",
      "0.5\n",
      "0.6000000000000001\n",
      "0.7000000000000001\n",
      "0.8\n",
      "0.9\n",
      "\n",
      " *** evaluating factor : news_volume_sum_7D\n",
      "0.1\n",
      "0.2\n",
      "0.30000000000000004\n",
      "0.4\n",
      "0.5\n",
      "0.6000000000000001\n",
      "0.7000000000000001\n",
      "0.8\n",
      "0.9\n",
      "\n",
      " *** evaluating factor : news_novelty_sum_7D\n",
      "0.1\n",
      "0.2\n",
      "0.30000000000000004\n",
      "0.4\n",
      "0.5\n",
      "0.6000000000000001\n",
      "0.7000000000000001\n",
      "0.8\n",
      "0.9\n"
     ]
    },
    {
     "data": {
      "text/plain": [
       "<Figure size 432x288 with 0 Axes>"
      ]
     },
     "metadata": {},
     "output_type": "display_data"
    },
    {
     "data": {
      "text/plain": [
       "<Figure size 432x288 with 0 Axes>"
      ]
     },
     "metadata": {},
     "output_type": "display_data"
    },
    {
     "data": {
      "text/plain": [
       "<Figure size 432x288 with 0 Axes>"
      ]
     },
     "metadata": {},
     "output_type": "display_data"
    },
    {
     "data": {
      "text/plain": [
       "<Figure size 432x288 with 0 Axes>"
      ]
     },
     "metadata": {},
     "output_type": "display_data"
    },
    {
     "data": {
      "text/plain": [
       "<Figure size 432x288 with 0 Axes>"
      ]
     },
     "metadata": {},
     "output_type": "display_data"
    },
    {
     "data": {
      "text/plain": [
       "<Figure size 432x288 with 0 Axes>"
      ]
     },
     "metadata": {},
     "output_type": "display_data"
    },
    {
     "data": {
      "text/plain": [
       "<Figure size 432x288 with 0 Axes>"
      ]
     },
     "metadata": {},
     "output_type": "display_data"
    },
    {
     "data": {
      "text/plain": [
       "<Figure size 432x288 with 0 Axes>"
      ]
     },
     "metadata": {},
     "output_type": "display_data"
    },
    {
     "data": {
      "text/plain": [
       "<Figure size 432x288 with 0 Axes>"
      ]
     },
     "metadata": {},
     "output_type": "display_data"
    },
    {
     "data": {
      "text/plain": [
       "<Figure size 432x288 with 0 Axes>"
      ]
     },
     "metadata": {},
     "output_type": "display_data"
    },
    {
     "data": {
      "text/plain": [
       "<Figure size 432x288 with 0 Axes>"
      ]
     },
     "metadata": {},
     "output_type": "display_data"
    },
    {
     "data": {
      "text/plain": [
       "<Figure size 432x288 with 0 Axes>"
      ]
     },
     "metadata": {},
     "output_type": "display_data"
    },
    {
     "data": {
      "text/plain": [
       "<Figure size 432x288 with 0 Axes>"
      ]
     },
     "metadata": {},
     "output_type": "display_data"
    },
    {
     "data": {
      "text/plain": [
       "<Figure size 432x288 with 0 Axes>"
      ]
     },
     "metadata": {},
     "output_type": "display_data"
    },
    {
     "data": {
      "text/plain": [
       "<Figure size 432x288 with 0 Axes>"
      ]
     },
     "metadata": {},
     "output_type": "display_data"
    },
    {
     "data": {
      "text/plain": [
       "<Figure size 432x288 with 0 Axes>"
      ]
     },
     "metadata": {},
     "output_type": "display_data"
    },
    {
     "data": {
      "text/plain": [
       "<Figure size 432x288 with 0 Axes>"
      ]
     },
     "metadata": {},
     "output_type": "display_data"
    },
    {
     "data": {
      "text/plain": [
       "<Figure size 432x288 with 0 Axes>"
      ]
     },
     "metadata": {},
     "output_type": "display_data"
    },
    {
     "data": {
      "text/plain": [
       "<Figure size 432x288 with 0 Axes>"
      ]
     },
     "metadata": {},
     "output_type": "display_data"
    },
    {
     "data": {
      "text/plain": [
       "<Figure size 432x288 with 0 Axes>"
      ]
     },
     "metadata": {},
     "output_type": "display_data"
    },
    {
     "data": {
      "text/plain": [
       "<Figure size 432x288 with 0 Axes>"
      ]
     },
     "metadata": {},
     "output_type": "display_data"
    },
    {
     "data": {
      "text/plain": [
       "<Figure size 432x288 with 0 Axes>"
      ]
     },
     "metadata": {},
     "output_type": "display_data"
    },
    {
     "data": {
      "text/plain": [
       "<Figure size 432x288 with 0 Axes>"
      ]
     },
     "metadata": {},
     "output_type": "display_data"
    },
    {
     "data": {
      "text/plain": [
       "<Figure size 432x288 with 0 Axes>"
      ]
     },
     "metadata": {},
     "output_type": "display_data"
    },
    {
     "data": {
      "text/plain": [
       "<Figure size 432x288 with 0 Axes>"
      ]
     },
     "metadata": {},
     "output_type": "display_data"
    },
    {
     "data": {
      "text/plain": [
       "<Figure size 432x288 with 0 Axes>"
      ]
     },
     "metadata": {},
     "output_type": "display_data"
    },
    {
     "data": {
      "text/plain": [
       "<Figure size 432x288 with 0 Axes>"
      ]
     },
     "metadata": {},
     "output_type": "display_data"
    },
    {
     "data": {
      "text/plain": [
       "<Figure size 432x288 with 0 Axes>"
      ]
     },
     "metadata": {},
     "output_type": "display_data"
    },
    {
     "data": {
      "text/plain": [
       "<Figure size 432x288 with 0 Axes>"
      ]
     },
     "metadata": {},
     "output_type": "display_data"
    },
    {
     "data": {
      "text/plain": [
       "<Figure size 432x288 with 0 Axes>"
      ]
     },
     "metadata": {},
     "output_type": "display_data"
    },
    {
     "data": {
      "text/plain": [
       "<Figure size 432x288 with 0 Axes>"
      ]
     },
     "metadata": {},
     "output_type": "display_data"
    },
    {
     "data": {
      "text/plain": [
       "<Figure size 432x288 with 0 Axes>"
      ]
     },
     "metadata": {},
     "output_type": "display_data"
    },
    {
     "data": {
      "text/plain": [
       "<Figure size 432x288 with 0 Axes>"
      ]
     },
     "metadata": {},
     "output_type": "display_data"
    },
    {
     "data": {
      "text/plain": [
       "<Figure size 432x288 with 0 Axes>"
      ]
     },
     "metadata": {},
     "output_type": "display_data"
    },
    {
     "data": {
      "text/plain": [
       "<Figure size 432x288 with 0 Axes>"
      ]
     },
     "metadata": {},
     "output_type": "display_data"
    },
    {
     "data": {
      "text/plain": [
       "<Figure size 432x288 with 0 Axes>"
      ]
     },
     "metadata": {},
     "output_type": "display_data"
    },
    {
     "data": {
      "text/plain": [
       "<Figure size 432x288 with 0 Axes>"
      ]
     },
     "metadata": {},
     "output_type": "display_data"
    },
    {
     "data": {
      "text/plain": [
       "<Figure size 432x288 with 0 Axes>"
      ]
     },
     "metadata": {},
     "output_type": "display_data"
    },
    {
     "data": {
      "text/plain": [
       "<Figure size 432x288 with 0 Axes>"
      ]
     },
     "metadata": {},
     "output_type": "display_data"
    },
    {
     "data": {
      "text/plain": [
       "<Figure size 432x288 with 0 Axes>"
      ]
     },
     "metadata": {},
     "output_type": "display_data"
    },
    {
     "data": {
      "text/plain": [
       "<Figure size 432x288 with 0 Axes>"
      ]
     },
     "metadata": {},
     "output_type": "display_data"
    },
    {
     "data": {
      "text/plain": [
       "<Figure size 432x288 with 0 Axes>"
      ]
     },
     "metadata": {},
     "output_type": "display_data"
    }
   ],
   "source": [
    "# run all sentiment related features and save them in local directory\n",
    "\n",
    "sentiment_cutoff_dict = dict()\n",
    "for i in examine_ls:\n",
    "    sentiment_cutoff_dict[i] = single_factor_eva(df, i, all_on=True)"
   ]
  },
  {
   "cell_type": "code",
   "execution_count": 140,
   "metadata": {},
   "outputs": [],
   "source": [
    "cutoff_df = pd.DataFrame(sentiment_cutoff_dict) # df is good for column wise operations\n",
    "cutoff_df = cutoff_df.abs()  # extreme is good, sign is not\n",
    "\n",
    "# # uncomment to inspect rank\n",
    "# cutoff_df.max().sort_values(ascending=False) # find top k by mean or max\n",
    "# cutoff_df.mean().sort_values(ascending=False)\n",
    "\n",
    "# maually selected top k most important features\n",
    "top_k_factors = [\n",
    "    'article_relevance_weighted_negative_sentiment',\n",
    "    'article_news_volume_sum_5D',\n",
    "    'article_relevance_weighted_positive_sentiment',\n",
    "    'alert_news_volume_sum_5D',\n",
    "    'alert_relevance_weighted_positive_sentiment',\n",
    "    'alert_relevance_weighted_negative_sentiment',\n",
    "    'article_news_novelty_sum_12H',\n",
    "    'alert_news_novelty_sum_3D'\n",
    "]"
   ]
  },
  {
   "cell_type": "code",
   "execution_count": 141,
   "metadata": {},
   "outputs": [
    {
     "name": "stdout",
     "output_type": "stream",
     "text": [
      "cutoff_lookup test case passed!\n"
     ]
    }
   ],
   "source": [
    "'''\n",
    "given column name like: 'article_relevance_weighted_negative_sentiment'\n",
    "return the quantile cutoff based on optimal single factor evaluation\n",
    "'''\n",
    "def cutoff_lookup(i):\n",
    "    return cutoff_df[i].sort_values(ascending=False).index[0]\n",
    "\n",
    "# test case for cutoff_lookup function - used min here because original dict had negative value for this feature\n",
    "assert(cutoff_lookup('article_relevance_weighted_negative_sentiment') == \\\n",
    "       min(sentiment_cutoff_dict['article_relevance_weighted_negative_sentiment'].items(), key=operator.itemgetter(1))[0])\n",
    "print(\"cutoff_lookup test case passed!\")"
   ]
  },
  {
   "cell_type": "code",
   "execution_count": 158,
   "metadata": {},
   "outputs": [],
   "source": [
    "# test case for bin_top_k_sentiment_factors\n",
    "\n",
    "'''\n",
    "provide a top_k_factors list of columns names, and df that contains them\n",
    "return only the top k sentiment factors in binary encoding based on their optimal sharpe dict obtained earlier\n",
    "'''\n",
    "def bin_top_k_sentiment_factors(df, top_k_factors):\n",
    "    d = {}\n",
    "    for factor in top_k_factors:\n",
    "        sorted_df = df.sort_values(factor).reset_index(drop=True)\n",
    "        index = int(len(sorted_df) * cutoff_lookup(factor))\n",
    "        index_value = float(sorted_df[factor].iloc[[index]])\n",
    "        d[factor] = df[factor].apply(lambda x: 1 if x >= index_value else -1)\n",
    "    d['returnsOpenNextMktres10'] = df.returnsOpenNextMktres10\n",
    "    d['datetime'] = df.datetime\n",
    "    return pd.DataFrame(d)\n",
    "\n",
    "tmp = df.groupby('datetime').apply(lambda x: bin_top_k_sentiment_factors(x, top_k_factors))\n",
    "\n",
    "def single_factor_helper(x, score):\n",
    "    d = {}\n",
    "    short_portfolio = np.mean(x[x[score] == -1].returnsOpenNextMktres10)\n",
    "    long_portfolio = np.mean(x[x[score] == 1].returnsOpenNextMktres10)\n",
    "    d['daily_return'] = long_portfolio - short_portfolio\n",
    "    return pd.Series(d, index=['daily_return'])"
   ]
  },
  {
   "cell_type": "code",
   "execution_count": 159,
   "metadata": {},
   "outputs": [
    {
     "name": "stdout",
     "output_type": "stream",
     "text": [
      "\n",
      " article_relevance_weighted_negative_sentiment\n",
      "benchmark max  -0.07097892573710275\n",
      "benchmark min  -0.10547548077235366\n",
      "binary......  -0.1045339886591367\n",
      "\n",
      " article_news_volume_sum_5D\n",
      "benchmark max  -0.0016463969127021964\n",
      "benchmark min  -0.098564382463486\n",
      "binary......  -0.09766731012761795\n",
      "\n",
      " article_relevance_weighted_positive_sentiment\n",
      "benchmark max  0.09591264225125541\n",
      "benchmark min  0.0452640986874217\n",
      "binary......  0.09649712295948355\n",
      "\n",
      " alert_news_volume_sum_5D\n",
      "benchmark max  -0.00017856722921002905\n",
      "benchmark min  -0.10439747619835239\n",
      "binary......  -0.1039127850066204\n",
      "\n",
      " alert_relevance_weighted_positive_sentiment\n",
      "benchmark max  0.09446337650012954\n",
      "benchmark min  0.011336875860654023\n",
      "binary......  0.0942377415483772\n",
      "\n",
      " alert_relevance_weighted_negative_sentiment\n",
      "benchmark max  -0.054392222924663676\n",
      "benchmark min  -0.09398496179868948\n",
      "binary......  -0.09397969055580116\n",
      "\n",
      " article_news_novelty_sum_12H\n",
      "benchmark max  -0.0019398772981909444\n",
      "benchmark min  -0.0610389263109162\n",
      "binary......  -0.05609955252459775\n",
      "\n",
      " alert_news_novelty_sum_3D\n",
      "benchmark max  0.002886952124404871\n",
      "benchmark min  -0.05792754572271414\n",
      "binary......  -0.04016692044487653\n"
     ]
    }
   ],
   "source": [
    "for i in top_k_factors:\n",
    "    ret = tmp.groupby('datetime').apply(lambda x: single_factor_helper(x, i))\n",
    "    print(\"\\n\", i)\n",
    "    print(\"benchmark max \", max(sentiment_cutoff_dict[i].values()))\n",
    "    print(\"benchmark min \", min(sentiment_cutoff_dict[i].values()))\n",
    "    print(\"binary...... \", float(ret.mean() / ret.std()))\n",
    "# assert(min(sentiment_cutoff_dict['alert_relevance_weighted_negative_sentiment'].values()) - float(ret.mean() / ret.std()) < e)\n",
    "# ret = tmp.groupby('datetime').apply(lambda x: single_factor_helper(x, 'alert_relevance_weighted_positive_sentiment'))\n",
    "# assert(max(sentiment_cutoff_dict['alert_relevance_weighted_positive_sentiment'].values()) - float(ret.mean() / ret.std()) < e)\n",
    "# print(\"binary top k sentiment factor passed test!\")"
   ]
  },
  {
   "cell_type": "code",
   "execution_count": null,
   "metadata": {},
   "outputs": [],
   "source": [
    "# test statistics\n",
    "# binary matrix is about the same magnitude in sharpe in general"
   ]
  },
  {
   "cell_type": "code",
   "execution_count": null,
   "metadata": {},
   "outputs": [],
   "source": [
    "# demo code of running all sector comparison for 'alert_relevance_weighted_positive_sentiment'\n",
    "for i in list(df.sector.unique()):\n",
    "    single_factor_eva(df, 'alert_relevance_weighted_positive_sentiment', 0.5, i)"
   ]
  },
  {
   "cell_type": "markdown",
   "metadata": {},
   "source": [
    "### New Sentiment Feature Generations\n",
    "\n",
    "+ test novelty combined with other features\n",
    "    + test method: use linear regression to fit single and double factor model and examine cumulative return and overall sharpe\n",
    "    + test novelty against all volume and all sentiments"
   ]
  },
  {
   "cell_type": "code",
   "execution_count": 128,
   "metadata": {},
   "outputs": [
    {
     "name": "stdout",
     "output_type": "stream",
     "text": [
      "['alert_news_novelty_sum_12H', 'alert_news_novelty_sum_24H', 'alert_news_novelty_sum_3D', 'alert_news_novelty_sum_5D', 'alert_news_novelty_sum_7D', 'article_news_novelty_sum_12H', 'article_news_novelty_sum_24H', 'article_news_novelty_sum_3D', 'article_news_novelty_sum_5D', 'article_news_novelty_sum_7D', 'news_novelty_sum_12H', 'news_novelty_sum_24H', 'news_novelty_sum_3D', 'news_novelty_sum_5D', 'news_novelty_sum_7D']\n"
     ]
    }
   ],
   "source": [
    "novelty_ls = []\n",
    "for i in examine_ls:\n",
    "    if 'novelty' in i:\n",
    "        novelty_ls.append(i)\n",
    "print(novelty_ls)"
   ]
  },
  {
   "cell_type": "code",
   "execution_count": 129,
   "metadata": {},
   "outputs": [
    {
     "name": "stdout",
     "output_type": "stream",
     "text": [
      "['alert_news_volume_sum_12H', 'alert_news_volume_sum_24H', 'alert_news_volume_sum_3D', 'alert_news_volume_sum_5D', 'alert_news_volume_sum_7D', 'article_news_volume_sum_12H', 'article_news_volume_sum_24H', 'article_news_volume_sum_3D', 'article_news_volume_sum_5D', 'article_news_volume_sum_7D', 'news_volume_sum_12H', 'news_volume_sum_24H', 'news_volume_sum_3D', 'news_volume_sum_5D', 'news_volume_sum_7D']\n"
     ]
    }
   ],
   "source": [
    "volume_ls = []\n",
    "for i in examine_ls:\n",
    "    if 'volume' in i:\n",
    "        volume_ls.append(i)\n",
    "print(volume_ls)"
   ]
  },
  {
   "cell_type": "code",
   "execution_count": 130,
   "metadata": {},
   "outputs": [
    {
     "name": "stdout",
     "output_type": "stream",
     "text": [
      "['alert_relevance_weighted_sentiment', 'alert_relevance_weighted_negative_sentiment', 'alert_relevance_weighted_positive_sentiment', 'alert_relevance_weighted_neutral_sentiment', 'article_relevance_weighted_sentiment', 'article_relevance_weighted_negative_sentiment', 'article_relevance_weighted_positive_sentiment', 'article_relevance_weighted_neutral_sentiment', 'relevance_weighted_sentiment', 'relevance_weighted_negative_sentiment', 'relevance_weighted_positive_sentiment', 'relevance_weighted_neutral_sentiment']\n"
     ]
    }
   ],
   "source": [
    "sentiment_ls = []\n",
    "for i in examine_ls:\n",
    "    if 'sentiment' in i:\n",
    "        sentiment_ls.append(i)\n",
    "print(sentiment_ls)"
   ]
  },
  {
   "cell_type": "code",
   "execution_count": 162,
   "metadata": {},
   "outputs": [
    {
     "name": "stdout",
     "output_type": "stream",
     "text": [
      "[[100.59186739 101.04516415]]\n"
     ]
    }
   ],
   "source": [
    "# VAR example\n",
    "from statsmodels.tsa.vector_ar.var_model import VAR\n",
    "from random import random\n",
    "# contrived dataset with dependency\n",
    "data = list()\n",
    "for i in range(100):\n",
    "    v1 = i + random()\n",
    "    v2 = v1 + random()\n",
    "    row = [v1, v2]\n",
    "    data.append(row)\n",
    "# fit model\n",
    "model = VAR(data)\n",
    "model_fit = model.fit()\n",
    "# make prediction\n",
    "yhat = model_fit.forecast(model_fit.y, steps=1)\n",
    "print(yhat)"
   ]
  },
  {
   "cell_type": "code",
   "execution_count": 230,
   "metadata": {},
   "outputs": [
    {
     "name": "stdout",
     "output_type": "stream",
     "text": [
      "-0.036053070252380054 -0.009492118673526975 0.010228750809856337 0.03649713167526531\n"
     ]
    },
    {
     "data": {
      "image/png": "[encoded data removed]",
      "text/plain": [
       "<Figure size 432x288 with 1 Axes>"
      ]
     },
     "metadata": {},
     "output_type": "display_data"
    },
    {
     "name": "stdout",
     "output_type": "stream",
     "text": [
      "accuracy: 0.5095978081016064\n",
      "confusion matrix: [[ 61775 178639]\n",
      " [ 59056 185224]]\n"
     ]
    },
    {
     "ename": "ValueError",
     "evalue": "The truth value of a Series is ambiguous. Use a.empty, a.bool(), a.item(), a.any() or a.all().",
     "output_type": "error",
     "traceback": [
      "\u001b[0;31m---------------------------------------------------------------------------\u001b[0m",
      "\u001b[0;31mValueError\u001b[0m                                Traceback (most recent call last)",
      "\u001b[0;32m<ipython-input-230-a5278ac3a7a1>\u001b[0m in \u001b[0;36m<module>\u001b[0;34m()\u001b[0m\n\u001b[1;32m     78\u001b[0m     \u001b[0mplt\u001b[0m\u001b[0;34m.\u001b[0m\u001b[0mshow\u001b[0m\u001b[0;34m(\u001b[0m\u001b[0;34m)\u001b[0m\u001b[0;34m\u001b[0m\u001b[0m\n\u001b[1;32m     79\u001b[0m \u001b[0;34m\u001b[0m\u001b[0m\n\u001b[0;32m---> 80\u001b[0;31m \u001b[0mrun_multi_eva\u001b[0m\u001b[0;34m(\u001b[0m\u001b[0mdf\u001b[0m\u001b[0;34m,\u001b[0m \u001b[0mtype_eva\u001b[0m \u001b[0;34m=\u001b[0m \u001b[0;34m\"binary_class\"\u001b[0m\u001b[0;34m)\u001b[0m\u001b[0;34m\u001b[0m\u001b[0m\n\u001b[0m",
      "\u001b[0;32m<ipython-input-230-a5278ac3a7a1>\u001b[0m in \u001b[0;36mrun_multi_eva\u001b[0;34m(df, type_eva)\u001b[0m\n\u001b[1;32m     70\u001b[0m     \u001b[0;32mif\u001b[0m \u001b[0mtype_eva\u001b[0m \u001b[0;34m==\u001b[0m \u001b[0;34m\"binary_class\"\u001b[0m\u001b[0;34m:\u001b[0m\u001b[0;34m\u001b[0m\u001b[0m\n\u001b[1;32m     71\u001b[0m         \u001b[0mtmp_ret\u001b[0m \u001b[0;34m=\u001b[0m \u001b[0mtmp\u001b[0m\u001b[0;34m.\u001b[0m\u001b[0mgroupby\u001b[0m\u001b[0;34m(\u001b[0m\u001b[0;34m\"datetime\"\u001b[0m\u001b[0;34m)\u001b[0m\u001b[0;34m.\u001b[0m\u001b[0mapply\u001b[0m\u001b[0;34m(\u001b[0m\u001b[0;32mlambda\u001b[0m \u001b[0mx\u001b[0m\u001b[0;34m:\u001b[0m \u001b[0mbinary_class_eva\u001b[0m\u001b[0;34m(\u001b[0m\u001b[0mx\u001b[0m\u001b[0;34m)\u001b[0m\u001b[0;34m)\u001b[0m\u001b[0;34m\u001b[0m\u001b[0m\n\u001b[0;32m---> 72\u001b[0;31m     \u001b[0;32massert\u001b[0m\u001b[0;34m(\u001b[0m\u001b[0mtmp_ret\u001b[0m \u001b[0;34m!=\u001b[0m \u001b[0;32mNone\u001b[0m\u001b[0;34m)\u001b[0m\u001b[0;34m\u001b[0m\u001b[0m\n\u001b[0m\u001b[1;32m     73\u001b[0m     \u001b[0mplt\u001b[0m\u001b[0;34m.\u001b[0m\u001b[0mfigure\u001b[0m\u001b[0;34m(\u001b[0m\u001b[0;34m)\u001b[0m\u001b[0;34m\u001b[0m\u001b[0m\n\u001b[1;32m     74\u001b[0m     \u001b[0mplt\u001b[0m\u001b[0;34m.\u001b[0m\u001b[0mplot\u001b[0m\u001b[0;34m(\u001b[0m\u001b[0mlist\u001b[0m\u001b[0;34m(\u001b[0m\u001b[0mtmp_ret\u001b[0m\u001b[0;34m.\u001b[0m\u001b[0mcumsum\u001b[0m\u001b[0;34m(\u001b[0m\u001b[0;34m)\u001b[0m\u001b[0;34m)\u001b[0m\u001b[0;34m)\u001b[0m\u001b[0;34m\u001b[0m\u001b[0m\n",
      "\u001b[0;32m~/anaconda3/lib/python3.6/site-packages/pandas/core/generic.py\u001b[0m in \u001b[0;36m__nonzero__\u001b[0;34m(self)\u001b[0m\n\u001b[1;32m   1571\u001b[0m         raise ValueError(\"The truth value of a {0} is ambiguous. \"\n\u001b[1;32m   1572\u001b[0m                          \u001b[0;34m\"Use a.empty, a.bool(), a.item(), a.any() or a.all().\"\u001b[0m\u001b[0;34m\u001b[0m\u001b[0m\n\u001b[0;32m-> 1573\u001b[0;31m                          .format(self.__class__.__name__))\n\u001b[0m\u001b[1;32m   1574\u001b[0m \u001b[0;34m\u001b[0m\u001b[0m\n\u001b[1;32m   1575\u001b[0m     \u001b[0m__bool__\u001b[0m \u001b[0;34m=\u001b[0m \u001b[0m__nonzero__\u001b[0m\u001b[0;34m\u001b[0m\u001b[0m\n",
      "\u001b[0;31mValueError\u001b[0m: The truth value of a Series is ambiguous. Use a.empty, a.bool(), a.item(), a.any() or a.all()."
     ]
    }
   ],
   "source": [
    "from sklearn.ensemble import RandomForestClassifier\n",
    "import seaborn as sns\n",
    "import matplotlib.pyplot as plt\n",
    "from sklearn import metrics\n",
    "%matplotlib inline\n",
    "\n",
    "q2 = tmp.returnsOpenNextMktres10.quantile(.2)\n",
    "q4 = tmp.returnsOpenNextMktres10.quantile(.4)\n",
    "q6 = tmp.returnsOpenNextMktres10.quantile(.6)\n",
    "q8 = tmp.returnsOpenNextMktres10.quantile(.8)\n",
    "\n",
    "q5 = tmp.returnsOpenNextMktres10.quantile(.5)\n",
    "print(q2, q4, q6, q8)\n",
    "\n",
    "def quantile_mapper(x):\n",
    "    if x <= q2:\n",
    "        return 1\n",
    "    if x <= q4:\n",
    "        return 2\n",
    "    if x <= q6:\n",
    "        return 3\n",
    "    if x <= q8:\n",
    "        return 4\n",
    "    return 5\n",
    "\n",
    "def binary_quantile_mapper(x):\n",
    "    if x <= 0:\n",
    "        return -1\n",
    "    return 1\n",
    "\n",
    "tmp['quantile'] = tmp.returnsOpenNextMktres10.apply(binary_quantile_mapper)\n",
    "\n",
    "X = tmp[['article_relevance_weighted_negative_sentiment',\n",
    "       'article_news_volume_sum_5D',\n",
    "       'article_relevance_weighted_positive_sentiment',\n",
    "       'alert_news_volume_sum_5D',\n",
    "       'alert_relevance_weighted_positive_sentiment',\n",
    "       'alert_relevance_weighted_negative_sentiment',\n",
    "       'article_news_novelty_sum_12H', 'alert_news_novelty_sum_3D']]\n",
    "y = tmp['quantile']\n",
    "\n",
    "clf = RandomForestClassifier(n_estimators=500)  \n",
    "clf.fit(X, y)  \n",
    "tmp['y_pred'] = clf.predict(X)\n",
    "feature_imp = pd.Series(clf.feature_importances_,index=X.columns).sort_values(ascending=False)\n",
    "sns.barplot(x=feature_imp, y=feature_imp.index)\n",
    "plt.xlabel('Feature Importance Score')\n",
    "plt.ylabel('Features')\n",
    "plt.title(\"Visualizing Important Features\")\n",
    "plt.show()\n",
    "\n",
    "print(\"accuracy:\", metrics.accuracy_score(y, tmp['y_pred']))\n",
    "print(\"confusion matrix:\", metrics.confusion_matrix(tmp['quantile'], tmp['y_pred']))\n",
    "\n",
    "# let's write an evaluation for 5 class predictions, 1, 2, 3, 4, 5 - short on 1, 2 - long on 4, 5\n",
    "def multi_class_eva(day_df):\n",
    "    short_porfolio = day_df[(day_df.y_pred == 1) | (day_df.y_pred == 2)]\n",
    "    long_porfolio  = day_df[(day_df.y_pred == 4) | (day_df.y_pred == 5)]\n",
    "    return (long_porfolio.returnsOpenNextMktres10).mean() - (short_porfolio.returnsOpenNextMktres10).mean()\n",
    "\n",
    "def binary_class_eva(day_df):\n",
    "    short_porfolio = day_df[(day_df.y_pred == -1)]\n",
    "    long_porfolio  = day_df[(day_df.y_pred == 1)]\n",
    "    return (long_porfolio.returnsOpenNextMktres10).mean() - (short_porfolio.returnsOpenNextMktres10).mean()\n",
    "\n",
    "def run_multi_eva(df, type_eva = 'multi_class'):\n",
    "    tmp_ret = None\n",
    "    if type_eva == \"multi_class\":\n",
    "        tmp_ret = tmp.groupby(\"datetime\").apply(lambda x: multi_class_eva(x))\n",
    "    if type_eva == \"binary_class\":\n",
    "        tmp_ret = tmp.groupby(\"datetime\").apply(lambda x: binary_class_eva(x))\n",
    "    plt.figure()\n",
    "    plt.plot(list(tmp_ret.cumsum()))\n",
    "    plt.title(type_eva + ' cumulaive return plot')\n",
    "    print(\"annualized sharpe:\", (tmp_ret.mean() / tmp_ret.std()) * np.sqrt(365))\n",
    "    print(\"daily sharpe     :\", (tmp_ret.mean() / tmp_ret.std()))\n",
    "    plt.show()\n",
    "    \n",
    "run_multi_eva(df, type_eva = \"binary_class\")"
   ]
  },
  {
   "cell_type": "code",
   "execution_count": 231,
   "metadata": {},
   "outputs": [
    {
     "name": "stdout",
     "output_type": "stream",
     "text": [
      "annualized sharpe: 2.926875622116277\n",
      "daily sharpe     : 0.1531996719061774\n"
     ]
    },
    {
     "data": {
      "image/png": "[encoded data removed]",
      "text/plain": [
       "<Figure size 432x288 with 1 Axes>"
      ]
     },
     "metadata": {},
     "output_type": "display_data"
    }
   ],
   "source": [
    "def run_multi_eva(df, type_eva = 'multi_class'):\n",
    "    tmp_ret = None\n",
    "    if type_eva == \"multi_class\":\n",
    "        tmp_ret = tmp.groupby(\"datetime\").apply(lambda x: multi_class_eva(x))\n",
    "    if type_eva == \"binary_class\":\n",
    "        tmp_ret = tmp.groupby(\"datetime\").apply(lambda x: binary_class_eva(x))\n",
    "    plt.figure()\n",
    "    plt.plot(list(tmp_ret.cumsum()))\n",
    "    plt.title(type_eva + ' cumulaive return plot')\n",
    "    print(\"annualized sharpe:\", (tmp_ret.mean() / tmp_ret.std()) * np.sqrt(365))\n",
    "    print(\"daily sharpe     :\", (tmp_ret.mean() / tmp_ret.std()))\n",
    "    plt.show()\n",
    "    \n",
    "run_multi_eva(df, type_eva = \"binary_class\")"
   ]
  },
  {
   "cell_type": "code",
   "execution_count": 232,
   "metadata": {},
   "outputs": [
    {
     "data": {
      "text/plain": [
       "4.891846791225575"
      ]
     },
     "execution_count": 232,
     "metadata": {},
     "output_type": "execute_result"
    }
   ],
   "source": [
    "tmp.groupby(\"datetime\").apply(lambda x: binary_class_eva(x)).sum()"
   ]
  },
  {
   "cell_type": "code",
   "execution_count": 235,
   "metadata": {},
   "outputs": [],
   "source": [
    "import random"
   ]
  },
  {
   "cell_type": "code",
   "execution_count": 239,
   "metadata": {},
   "outputs": [],
   "source": [
    "tmp['random_y'] = [random.choice([1, -1]) for i in range(len(tmp))] "
   ]
  },
  {
   "cell_type": "code",
   "execution_count": 240,
   "metadata": {},
   "outputs": [
    {
     "name": "stdout",
     "output_type": "stream",
     "text": [
      "annualized sharpe: -0.2552677183968719\n",
      "daily sharpe     : -0.013361323047394477\n"
     ]
    },
    {
     "data": {
      "image/png": "[encoded data removed]",
      "text/plain": [
       "<Figure size 432x288 with 1 Axes>"
      ]
     },
     "metadata": {},
     "output_type": "display_data"
    }
   ],
   "source": [
    "def binary_class_eva(day_df):\n",
    "    short_porfolio = day_df[(day_df.random_y == -1)]\n",
    "    long_porfolio  = day_df[(day_df.random_y == 1)]\n",
    "    return (long_porfolio.returnsOpenNextMktres10).mean() - (short_porfolio.returnsOpenNextMktres10).mean()\n",
    "\n",
    "def run_multi_eva(df, type_eva = 'multi_class'):\n",
    "    tmp_ret = None\n",
    "    if type_eva == \"multi_class\":\n",
    "        tmp_ret = tmp.groupby(\"datetime\").apply(lambda x: multi_class_eva(x))\n",
    "    if type_eva == \"binary_class\":\n",
    "        tmp_ret = tmp.groupby(\"datetime\").apply(lambda x: binary_class_eva(x))\n",
    "    plt.figure()\n",
    "    plt.plot(list(tmp_ret.cumsum()))\n",
    "    plt.title(type_eva + ' cumulaive return plot')\n",
    "    print(\"annualized sharpe:\", (tmp_ret.mean() / tmp_ret.std()) * np.sqrt(365))\n",
    "    print(\"daily sharpe     :\", (tmp_ret.mean() / tmp_ret.std()))\n",
    "    plt.show()\n",
    "    \n",
    "run_multi_eva(df, type_eva = \"binary_class\")"
   ]
  },
  {
   "cell_type": "code",
   "execution_count": 227,
   "metadata": {},
   "outputs": [
    {
     "name": "stdout",
     "output_type": "stream",
     "text": [
      "annualized sharpe: 3.0294929854872192\n",
      "daily sharpe     : 0.15857091019232578\n"
     ]
    },
    {
     "data": {
      "image/png": "[encoded data removed]",
      "text/plain": [
       "<Figure size 432x288 with 1 Axes>"
      ]
     },
     "metadata": {},
     "output_type": "display_data"
    }
   ],
   "source": [
    "run_multi_eva(df)"
   ]
  },
  {
   "cell_type": "code",
   "execution_count": 110,
   "metadata": {},
   "outputs": [
    {
     "data": {
      "text/plain": [
       "Counter({-1: 365984, 1: 118710})"
      ]
     },
     "execution_count": 110,
     "metadata": {},
     "output_type": "execute_result"
    }
   ],
   "source": [
    "from collections import Counter\n",
    "df.groupby('datetime').apply(lambda x: h(x))"
   ]
  },
  {
   "cell_type": "code",
   "execution_count": 166,
   "metadata": {},
   "outputs": [
    {
     "data": {
      "text/plain": [
       "array([[  0.94903263,   1.74423768],\n",
       "       [  1.85272986,   2.69492908],\n",
       "       [  2.50875137,   3.30889533],\n",
       "       [  3.96871855,   4.87265629],\n",
       "       [  4.00040904,   4.83558791],\n",
       "       [  5.44468879,   6.15062424],\n",
       "       [  6.92722714,   7.36849654],\n",
       "       [  7.98988365,   8.41573007],\n",
       "       [  8.08109285,   8.32995924],\n",
       "       [  9.28868489,  10.22962186],\n",
       "       [ 10.7877681 ,  11.19331991],\n",
       "       [ 11.15116933,  11.72942777],\n",
       "       [ 12.55854484,  12.86253204],\n",
       "       [ 13.0949307 ,  13.55127669],\n",
       "       [ 14.68040222,  15.43434191],\n",
       "       [ 15.39913285,  15.75054752],\n",
       "       [ 16.84001784,  16.87629691],\n",
       "       [ 17.02053376,  17.94231129],\n",
       "       [ 18.58291829,  19.38164111],\n",
       "       [ 19.73928507,  20.05775451],\n",
       "       [ 20.66856295,  20.90150308],\n",
       "       [ 21.85934709,  22.51880688],\n",
       "       [ 22.21255406,  22.59586565],\n",
       "       [ 23.66107545,  24.48994068],\n",
       "       [ 24.48218175,  24.8501392 ],\n",
       "       [ 25.45939765,  25.55213842],\n",
       "       [ 26.68866028,  27.58902091],\n",
       "       [ 27.2852524 ,  27.63506859],\n",
       "       [ 28.89201007,  29.77537966],\n",
       "       [ 29.01672098,  29.02085994],\n",
       "       [ 30.74606052,  30.77525927],\n",
       "       [ 31.96813636,  32.27170396],\n",
       "       [ 32.46480874,  32.78261659],\n",
       "       [ 33.6485473 ,  34.3900132 ],\n",
       "       [ 34.05589208,  34.90331173],\n",
       "       [ 35.07138285,  35.20438863],\n",
       "       [ 36.26477587,  37.07852038],\n",
       "       [ 37.01875476,  37.42222954],\n",
       "       [ 38.46442596,  38.88250869],\n",
       "       [ 39.5235701 ,  39.71974653],\n",
       "       [ 40.64378133,  40.66020034],\n",
       "       [ 41.41084894,  41.541128  ],\n",
       "       [ 42.66756894,  43.07991634],\n",
       "       [ 43.71766188,  43.94609492],\n",
       "       [ 44.51755497,  45.40184453],\n",
       "       [ 45.8734888 ,  46.09365128],\n",
       "       [ 46.17022824,  46.51202715],\n",
       "       [ 47.50686019,  48.04795722],\n",
       "       [ 48.36117301,  48.96446506],\n",
       "       [ 49.5510459 ,  50.25106849],\n",
       "       [ 50.07580427,  50.12848378],\n",
       "       [ 51.08445756,  51.66657435],\n",
       "       [ 52.30013993,  53.16879494],\n",
       "       [ 53.03466353,  53.87224775],\n",
       "       [ 54.53082082,  54.97735396],\n",
       "       [ 55.78395537,  55.85642851],\n",
       "       [ 56.06882718,  56.74591475],\n",
       "       [ 57.3506327 ,  57.58805757],\n",
       "       [ 58.23547857,  58.57362611],\n",
       "       [ 59.95425319,  59.97820614],\n",
       "       [ 60.62852099,  60.86945201],\n",
       "       [ 61.09214279,  61.32390639],\n",
       "       [ 62.99146016,  63.41662651],\n",
       "       [ 63.95884981,  64.31715054],\n",
       "       [ 64.63922057,  65.06051014],\n",
       "       [ 65.03513842,  66.0066976 ],\n",
       "       [ 66.73542929,  67.08932083],\n",
       "       [ 67.1891806 ,  68.15024996],\n",
       "       [ 68.70278161,  69.365745  ],\n",
       "       [ 69.97809599,  70.59647243],\n",
       "       [ 70.47771688,  70.87838051],\n",
       "       [ 71.49870817,  71.55180931],\n",
       "       [ 72.49246719,  73.24154028],\n",
       "       [ 73.02492916,  73.52985846],\n",
       "       [ 74.84699476,  74.86829096],\n",
       "       [ 75.7798517 ,  76.05351749],\n",
       "       [ 76.36552967,  76.76444436],\n",
       "       [ 77.77708383,  78.5554934 ],\n",
       "       [ 78.49915173,  78.85626999],\n",
       "       [ 79.05672189,  79.80100201],\n",
       "       [ 80.26770162,  80.54603111],\n",
       "       [ 81.44966311,  81.61933829],\n",
       "       [ 82.03894472,  82.82079097],\n",
       "       [ 83.84290171,  83.89922647],\n",
       "       [ 84.41721129,  85.10045655],\n",
       "       [ 85.54618153,  85.79786082],\n",
       "       [ 86.9290757 ,  86.92945749],\n",
       "       [ 87.45113452,  88.23125824],\n",
       "       [ 88.68565064,  89.57286631],\n",
       "       [ 89.22274851,  89.33900515],\n",
       "       [ 90.12833241,  91.03799406],\n",
       "       [ 91.22861383,  91.95525491],\n",
       "       [ 92.07437124,  92.64939329],\n",
       "       [ 93.59939171,  94.50089025],\n",
       "       [ 94.76420661,  95.02264645],\n",
       "       [ 95.79102678,  96.05230906],\n",
       "       [ 96.5195157 ,  97.39114245],\n",
       "       [ 97.27847338,  97.64950706],\n",
       "       [ 98.44904048,  99.13671102],\n",
       "       [ 99.5862831 , 100.01882441]])"
      ]
     },
     "execution_count": 166,
     "metadata": {},
     "output_type": "execute_result"
    }
   ],
   "source": [
    "model_fit.y"
   ]
  },
  {
   "cell_type": "code",
   "execution_count": 164,
   "metadata": {},
   "outputs": [
    {
     "data": {
      "text/plain": [
       "<statsmodels.tsa.vector_ar.var_model.VAR at 0x10d09c1d0>"
      ]
     },
     "execution_count": 164,
     "metadata": {},
     "output_type": "execute_result"
    }
   ],
   "source": [
    "model"
   ]
  },
  {
   "cell_type": "code",
   "execution_count": 163,
   "metadata": {},
   "outputs": [
    {
     "data": {
      "text/plain": [
       "[[0.9490326288237589, 1.7442376768180443],\n",
       " [1.8527298616198007, 2.694929079424243],\n",
       " [2.508751370514448, 3.308895331492579],\n",
       " [3.968718554555614, 4.87265628612721],\n",
       " [4.000409044331559, 4.8355879095605125],\n",
       " [5.444688787675827, 6.1506242430279805],\n",
       " [6.927227143971413, 7.368496542816656],\n",
       " [7.989883648558598, 8.415730071548566],\n",
       " [8.081092854555344, 8.329959236983822],\n",
       " [9.28868488638017, 10.229621864445917],\n",
       " [10.787768102341097, 11.193319909558287],\n",
       " [11.151169328981485, 11.729427766791028],\n",
       " [12.558544841461615, 12.862532041140621],\n",
       " [13.094930696303077, 13.551276686297829],\n",
       " [14.680402218334194, 15.434341905711012],\n",
       " [15.399132848470494, 15.750547520245853],\n",
       " [16.840017837501684, 16.876296912140436],\n",
       " [17.02053375886114, 17.942311292724458],\n",
       " [18.582918286888784, 19.381641108928452],\n",
       " [19.73928507198929, 20.05775450817608],\n",
       " [20.66856295200906, 20.90150308173431],\n",
       " [21.859347089702872, 22.518806877506496],\n",
       " [22.21255405653747, 22.595865649893955],\n",
       " [23.66107545118775, 24.489940678799975],\n",
       " [24.482181746113483, 24.85013919785029],\n",
       " [25.45939764744872, 25.552138420696664],\n",
       " [26.68866028391203, 27.589020911596815],\n",
       " [27.28525239704875, 27.6350685852727],\n",
       " [28.892010066862213, 29.77537965612779],\n",
       " [29.01672097574988, 29.020859941258962],\n",
       " [30.746060522883358, 30.775259265043992],\n",
       " [31.968136360799893, 32.271703962102315],\n",
       " [32.46480874160893, 32.782616593948845],\n",
       " [33.64854729998668, 34.39001320263628],\n",
       " [34.05589208078891, 34.903311730079],\n",
       " [35.071382854259376, 35.2043886321506],\n",
       " [36.2647758721738, 37.07852037743792],\n",
       " [37.0187547616865, 37.4222295362998],\n",
       " [38.46442595780113, 38.882508686170794],\n",
       " [39.52357010181302, 39.719746529280044],\n",
       " [40.643781333007176, 40.66020034014649],\n",
       " [41.41084893922894, 41.54112799714964],\n",
       " [42.66756893685101, 43.07991634375017],\n",
       " [43.71766187816171, 43.946094922042256],\n",
       " [44.51755496683413, 45.401844529496245],\n",
       " [45.873488795779714, 46.09365128233454],\n",
       " [46.170228235514934, 46.51202714519186],\n",
       " [47.506860193174035, 48.04795721654037],\n",
       " [48.361173013337584, 48.964465056100295],\n",
       " [49.55104590158736, 50.25106849438028],\n",
       " [50.07580426583276, 50.128483778979415],\n",
       " [51.08445756194426, 51.66657434503911],\n",
       " [52.300139931800686, 53.16879494228925],\n",
       " [53.034663526505646, 53.872247750931],\n",
       " [54.53082081798249, 54.977353958962],\n",
       " [55.78395537175182, 55.8564285148595],\n",
       " [56.068827176549846, 56.74591474743568],\n",
       " [57.35063269939083, 57.58805756730589],\n",
       " [58.2354785732085, 58.573626111613855],\n",
       " [59.95425319429074, 59.97820614195158],\n",
       " [60.6285209854, 60.86945200736972],\n",
       " [61.092142794411544, 61.3239063864883],\n",
       " [62.99146016335986, 63.41662651001729],\n",
       " [63.95884980593228, 64.3171505419577],\n",
       " [64.63922057094636, 65.06051014384049],\n",
       " [65.03513842442297, 66.00669760116186],\n",
       " [66.73542928861085, 67.08932082917659],\n",
       " [67.18918059880917, 68.15024996484],\n",
       " [68.70278161499076, 69.36574500330981],\n",
       " [69.9780959902319, 70.59647243239478],\n",
       " [70.47771688255355, 70.87838050885067],\n",
       " [71.49870817184278, 71.55180931266199],\n",
       " [72.4924671912815, 73.24154028044195],\n",
       " [73.02492915921057, 73.52985846133915],\n",
       " [74.84699475558541, 74.86829095610179],\n",
       " [75.77985170036418, 76.05351749477833],\n",
       " [76.36552967055445, 76.76444436149536],\n",
       " [77.77708382847234, 78.55549340488538],\n",
       " [78.49915173090302, 78.85626999030461],\n",
       " [79.05672188694743, 79.80100200675341],\n",
       " [80.2677016181008, 80.54603110899875],\n",
       " [81.44966311042823, 81.61933829441016],\n",
       " [82.03894472198867, 82.82079097071774],\n",
       " [83.84290171200902, 83.89922646502058],\n",
       " [84.41721128660191, 85.10045655168727],\n",
       " [85.5461815258826, 85.79786081886749],\n",
       " [86.92907569795025, 86.92945748573167],\n",
       " [87.45113452213087, 88.23125824308715],\n",
       " [88.68565064027271, 89.57286630601044],\n",
       " [89.22274851103938, 89.33900514924608],\n",
       " [90.12833240652073, 91.03799405793232],\n",
       " [91.22861383355321, 91.95525490790293],\n",
       " [92.07437123676502, 92.64939329215203],\n",
       " [93.59939170650982, 94.50089024639003],\n",
       " [94.76420661494073, 95.02264644728137],\n",
       " [95.79102677820849, 96.05230906293122],\n",
       " [96.51951570390692, 97.39114244610636],\n",
       " [97.27847337804101, 97.64950705545942],\n",
       " [98.44904048421871, 99.13671102054852],\n",
       " [99.58628310362052, 100.01882440662283]]"
      ]
     },
     "execution_count": 163,
     "metadata": {},
     "output_type": "execute_result"
    }
   ],
   "source": [
    "data"
   ]
  }
 ],
 "metadata": {
  "kernelspec": {
   "display_name": "Python 3",
   "language": "python",
   "name": "python3"
  },
  "language_info": {
   "codemirror_mode": {
    "name": "ipython",
    "version": 3
   },
   "file_extension": ".py",
   "mimetype": "text/x-python",
   "name": "python",
   "nbconvert_exporter": "python",
   "pygments_lexer": "ipython3",
   "version": "3.6.5"
  }
 },
 "nbformat": 4,
 "nbformat_minor": 2
}
