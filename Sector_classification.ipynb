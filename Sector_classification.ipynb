{
  "cells": [
    {
      "metadata": {
        "_uuid": "225708f447eee93041881f9d6c3a3e890cb16718"
      },
      "cell_type": "markdown",
      "source": "## In-depth Introduction\nFirst let's import the module and create an environment."
    },
    {
      "metadata": {
        "_uuid": "8f2839f25d086af736a60e9eeb907d3b93b6e0e5",
        "_cell_guid": "b1076dfc-b9ad-4769-8c92-a6c4dae69d19",
        "trusted": true,
        "_kg_hide-output": false
      },
      "cell_type": "code",
      "source": "from kaggle.competitions import twosigmanews\n# You can only call make_env() once, so don't lose it!\nenv = twosigmanews.make_env()",
      "execution_count": 37,
      "outputs": [
        {
          "output_type": "stream",
          "text": "Loading the data... This could take a minute.\nDone!\n",
          "name": "stdout"
        }
      ]
    },
    {
      "metadata": {
        "_uuid": "6034b46fce8c9d55d403de32e7cebe8cb9fef96d"
      },
      "cell_type": "markdown",
      "source": "## **`get_training_data`** function\n\nReturns the training data DataFrames as a tuple of:\n* `market_train_df`: DataFrame with market training data\n* `news_train_df`: DataFrame with news training data\n\nThese DataFrames contain all market and news data from February 2007 to December 2016.  See the [competition's Data tab](https://www.kaggle.com/c/two-sigma-financial-news/data) for more information on what columns are included in each DataFrame."
    },
    {
      "metadata": {
        "trusted": true,
        "_uuid": "c20fa6deeac9d374c98774abd90bdc76b023ee63"
      },
      "cell_type": "code",
      "source": "(market_train_df, news_train_df) = env.get_training_data()",
      "execution_count": 38,
      "outputs": []
    },
    {
      "metadata": {
        "trusted": true,
        "_uuid": "6811a1a76f08b2a029543cf73bcdf4dfca7dc362"
      },
      "cell_type": "code",
      "source": "market_train_df.head()",
      "execution_count": null,
      "outputs": []
    },
    {
      "metadata": {
        "trusted": true,
        "_uuid": "84b5a58f67ebded82e6aabc66ca36411e6db35a9"
      },
      "cell_type": "code",
      "source": "market_train_df.tail()",
      "execution_count": null,
      "outputs": []
    },
    {
      "metadata": {
        "trusted": true,
        "_uuid": "25115010e14ef3497932902db0cef68501ddca11"
      },
      "cell_type": "code",
      "source": "news_train_df.head()",
      "execution_count": null,
      "outputs": []
    },
    {
      "metadata": {
        "trusted": true,
        "_uuid": "cdc6b9842073bcb7d63cddc30e5bd7826ccfdfa1"
      },
      "cell_type": "code",
      "source": "news_train_df.tail()",
      "execution_count": null,
      "outputs": []
    },
    {
      "metadata": {
        "trusted": true,
        "_uuid": "0c1438bcaff717c8fa04085862ff8784871d7c11"
      },
      "cell_type": "code",
      "source": "market_train_df.shape",
      "execution_count": null,
      "outputs": []
    },
    {
      "metadata": {
        "trusted": true,
        "_uuid": "5044c55a8952d387f4dec4dba555654aef072219"
      },
      "cell_type": "code",
      "source": "#divide into 3 classes\nfrom scipy.stats import describe\nimport numpy as np\nimport matplotlib.pyplot as plt\nreturns = market_train_df['returnsOpenNextMktres10']\nvalid_idx = np.abs(returns) < 0.4\nvalid_returns = returns[valid_idx]\nmarket_train_df = market_train_df[valid_idx]\nprint(describe(returns))\ncutoff_1 = valid_returns.quantile(0.33)\ncutoff_2 = valid_returns.quantile(0.66)\nreturn_class = np.zeros(market_train_df.shape[0])\nreturn_class[valid_returns < cutoff_1] = -1\nreturn_class[valid_returns > cutoff_2] = 1\nmarket_train_df['class'] = return_class\nmarket_train_df.drop(columns = ['returnsClosePrevMktres10', 'returnsOpenPrevMktres10'])\nprint ('Done')",
      "execution_count": null,
      "outputs": []
    },
    {
      "metadata": {
        "trusted": true,
        "_uuid": "6ce5aff371858acab26655629781df7618e46650"
      },
      "cell_type": "code",
      "source": "print(len(valid_returns))\nlen(returns)",
      "execution_count": null,
      "outputs": []
    },
    {
      "metadata": {
        "trusted": true,
        "_uuid": "83dbca14efc952a6951a64726264990eb2225082"
      },
      "cell_type": "code",
      "source": "import pandas as pd\n\n#First, assign label to each piece of news\n#The label is the accumulated return over the next 10 business days after the news is released\ntext = news_train_df['headline']\nnum_rows = news_train_df.shape[0]\nlabels = np.ones(num_rows)\nfor i in range(num_rows):\n    x = news_train_df.iloc[i]\n    tmp = market_train_df[(market_train_df['time'] > x['time']) & (market_train_df['assetCode'].isin(list(eval(x['assetCodes']))))]\n    tmp = tmp[np.asarray([diff.days for diff in tmp.time - x.time]) <= 10]\n    labels[i] = np.prod([(1+num) for num in tmp.returnsOpenNextMktres10]) \nprint ('Done')",
      "execution_count": null,
      "outputs": []
    },
    {
      "metadata": {
        "trusted": true,
        "_uuid": "e4b656414cee1bef4e7d93c54493adf0e247278f"
      },
      "cell_type": "code",
      "source": "#Encode the news data\nimport chakin\n# chakin.search(lang=\"English\")\nchakin.download(number=21)\nprint ('Done')",
      "execution_count": null,
      "outputs": []
    },
    {
      "metadata": {
        "trusted": true,
        "_uuid": "857174261b1b1ef8ef85e5386f3aaeda1c09b822"
      },
      "cell_type": "code",
      "source": "import pandas as pd\nbasic = pd.read_csv('../input/sector/basic industries.csv')['Symbol']\ncapital = pd.read_csv('../input/sector/capital_goods.csv')['Symbol']\nprod = pd.read_csv('../input/sector/consumer products.csv')['Symbol']\nservice = pd.read_csv('../input/sector/consumer service.csv')['Symbol']\nenergy = pd.read_csv('../input/sector/energy.csv')['Symbol']\nfinance = pd.read_csv('../input/sector/finance.csv')['Symbol']\nhealthcare = pd.read_csv('../input/sector/healthcare.csv')['Symbol']\nmisc = pd.read_csv('../input/sector/miscellaneous.csv')['Symbol']\ntech = pd.read_csv('../input/sector/technology.csv')['Symbol']\ntransport = pd.read_csv('../input/sector/transportation.csv')['Symbol']\nutility = pd.read_csv('../input/sector/utilities.csv')['Symbol']\nsectors = [basic, capital, prod, service, energy, finance, healthcare, misc,\n          tech, transport, utility]\nprint ('Done')",
      "execution_count": 26,
      "outputs": [
        {
          "output_type": "stream",
          "text": "Done\n",
          "name": "stdout"
        }
      ]
    },
    {
      "metadata": {
        "trusted": true,
        "_uuid": "713190d017a9713d327b7831078eb68379bc62a9"
      },
      "cell_type": "code",
      "source": "#sector name cleaning\nfor i, sec in enumerate(sectors):\n    for j, name in enumerate(sec):\n        sectors[i][j] = sectors[i][j].strip()\n    sectors[i] = set(sectors[i])\nprint ('Done')",
      "execution_count": 27,
      "outputs": [
        {
          "output_type": "stream",
          "text": "Done\n",
          "name": "stdout"
        }
      ]
    },
    {
      "metadata": {
        "trusted": true,
        "_uuid": "9e6ffb30ae4843636c28df7c49a2366c2be4aafc"
      },
      "cell_type": "code",
      "source": "import numpy as np\nnum_rows = market_train_df.shape[0]\nindustry_class = np.zeros(num_rows)\nfor i in range(num_rows):\n    if i % 500000 == 0:\n        print ('step ' + str(i//500000) + ' is done')\n    name = market_train_df.loc[i, 'assetCode']\n    name = name[:name.find('.')] if name.find('.') != -1 else name\n    for j, sec in enumerate(sectors):\n        if name in sec:\n            industry_class[i] = j + 1\n            break\nprint ('Done')",
      "execution_count": 44,
      "outputs": [
        {
          "output_type": "stream",
          "text": "step 0 is done\nstep 1 is done\nstep 2 is done\nstep 3 is done\nstep 4 is done\nstep 5 is done\nstep 6 is done\nstep 7 is done\nstep 8 is done\nDone\n",
          "name": "stdout"
        }
      ]
    },
    {
      "metadata": {
        "trusted": true,
        "_uuid": "9979bdc0227d4a280ca89b35b1a918e1d43d36c7"
      },
      "cell_type": "code",
      "source": "industry_class\nmarket_train_df.iloc[1]",
      "execution_count": 53,
      "outputs": [
        {
          "output_type": "execute_result",
          "execution_count": 53,
          "data": {
            "text/plain": "0       AIRT\n1       ATSG\n2        ALK\n3       ALGT\n4        AAL\n5       ARCB\n6        ASC\n7       AAWW\n8        AVH\n9       AZUL\n10      BSTI\n11       BCO\n12       BRS\n13      CHRW\n14       CNI\n15        CP\n16      CPLP\n17       CEA\n18       ZNH\n19      VLRS\n20       CPA\n21      CAAP\n22      CMRE\n23      CVTI\n24      CYRX\n25     CYRXW\n26       CSX\n27       DAC\n28       DAL\n29       DHT\n       ...  \n92      STNG\n93       CKH\n94      SMHI\n95      SHIP\n96     SHIPW\n97       SSW\n98      SSWA\n99      SSWN\n100      SFL\n101     SINO\n102     SKYW\n103      LUV\n104     SAVE\n105     SBLK\n106    SBLKZ\n107     GASS\n108       TK\n109     TOPS\n110     TRMD\n111      TNP\n112      USX\n113      UNP\n114      UAL\n115      UPS\n116      ULH\n117     USAK\n118     USDP\n119     WERN\n120     YRCW\n121      ZTO\nName: Symbol, Length: 122, dtype: object"
          },
          "metadata": {}
        }
      ]
    },
    {
      "metadata": {
        "trusted": true,
        "_uuid": "8fee23469ca0c3567cbaa2388a377bcb6da824df"
      },
      "cell_type": "code",
      "source": "import matplotlib.pyplot as plt\nplt.hist(industry_class)",
      "execution_count": 50,
      "outputs": [
        {
          "output_type": "execute_result",
          "execution_count": 50,
          "data": {
            "text/plain": "(array([1416808.,  265270.,  175496.,  547094.,  234348.,  416559.,\n         272941.,   84578.,  376463.,  283399.]),\n array([ 0. ,  1.1,  2.2,  3.3,  4.4,  5.5,  6.6,  7.7,  8.8,  9.9, 11. ]),\n <a list of 10 Patch objects>)"
          },
          "metadata": {}
        },
        {
          "output_type": "display_data",
          "data": {
            "text/plain": "<Figure size 432x288 with 1 Axes>",
            "image/png": "[encoded data removed]"
          },
          "metadata": {}
        }
      ]
    },
    {
      "metadata": {
        "trusted": true,
        "_uuid": "a319deb5e7933d94e9107cb4f2ab8ca9296b0aa0"
      },
      "cell_type": "code",
      "source": "#industry classification for news data\nimport numpy as np\ntopic_codes = news_train_df['subjects']\nindustry_codes = set([\"ADV\",\"APL\",\"BIOT\",\"BUS\",\"DPR\",\"ELI\",\"GDM\",\"IND\",\n                      \"MAC\",\"MUL\",\"REAM\",\"RRL\",\"STL\",\"TEX\",\"WWW\",\n                      \"AER\",\"AUT\",\"BLD\",\"CHE\",\"DRU\",\"FIN\",\"GSFT\",\n                      \"INS\",\"MET\",\"PUB\",\"REC\",\"SHP\",\"TEL\",\"TIM\",\n                      \"AIR\",\"BEV\",\"BNK\",\"CON\",\"ELC\",\"FOD\",\"HDWR\",\n                      \"LEI\",\"MIS\",\"REA\",\"RET\",\"SFWR\",\"TBCS\",\"WHO\"])\n\nsectors = [basic, capital, prod, service, energy, finance, healthcare, misc,\n          tech, transport, utility]\n\nGICS = ['Communication services','Consumer discretionary','Consumer staples','Energy','Financials',\n        'Health care','Industrials','Information technology','Materials','Real estate','Utilities']\n\ncom = ['ELC','TEL']\ndisc = ['ADV','APL','AUT','LEI','PUB','REC','RET','TBCS','TEX']\nstaples = ['BEV','FOD',] \nenergy = ['ENR','ENQ',]\nfin = ['BNK','FIN','INS']\nhealth = ['BIOT','DRU',]\nind = ['AER','AIR','BLD','BUS','CON','IND','RRL','SHP','WHO']\ninfo = ['DPR','ELI','GSFT','HDWR','SFWR','WWW']\nmaterial = ['CHE','GDM','MAC','MET','MIS','STL','TIM',]\nestate = ['REA','REAM']\nutil = ['ELG']\ngeneral = ['MUL']\nsector_list = [com,disc,staples,energy,fin,health,ind,info,material,\n              estate,util]\nindustry_class = np.zeros(len(topic_codes))\nfor i,topic in enumerate(topic_codes):\n    for j,sector_codes in enumerate(sector_list):\n        if topic in sector_codes:\n            industry_class[i] = j + 1\nprint ('Done')\n",
      "execution_count": null,
      "outputs": []
    },
    {
      "metadata": {
        "trusted": true,
        "_uuid": "eed91eaea71acabc9543249bba29e3caa2cfea72"
      },
      "cell_type": "code",
      "source": "industry_class",
      "execution_count": null,
      "outputs": []
    },
    {
      "metadata": {
        "trusted": true,
        "_uuid": "0f48739682dc5668abaf48b1bf00d696937e42a7"
      },
      "cell_type": "code",
      "source": "#check if every news data point has industry code\nnum_missing_ind = 0\nidx = []\nfor i, val in enumerate(topic_codes):\n    if i % 500000 == 0:\n        print (\"step \" + str(i//500000) + \" is done!\")\n    topics = eval(val)\n    flag = False\n    for item in topics:\n        if item in industry_codes:\n            flag = True\n        if flag == True:\n            continue\n    if flag == False:\n        num_missing_ind += 1\n        idx.append(i)\nprint ('Done')\n        ",
      "execution_count": null,
      "outputs": []
    },
    {
      "metadata": {
        "trusted": true,
        "_uuid": "c3fd9956492e7022a9a33f8de2d712f58cd34c60"
      },
      "cell_type": "code",
      "source": "len(idx)/len(topic_codes)\nnews_train_df.iloc[0]",
      "execution_count": null,
      "outputs": []
    },
    {
      "metadata": {
        "trusted": true,
        "_uuid": "840aa03b49d675953f080e4069f79f435282bb43"
      },
      "cell_type": "markdown",
      "source": "i## `get_prediction_days` function\n\nGenerator which loops through each \"prediction day\" (trading day) and provides all market and news observations which occurred since the last data you've received.  Once you call **`predict`** to make your future predictions, you can continue on to the next prediction day.\n\nYields:\n* While there are more prediction day(s) and `predict` was called successfully since the last yield, yields a tuple of:\n    * `market_observations_df`: DataFrame with market observations for the next prediction day.\n    * `news_observations_df`: DataFrame with news observations for the next prediction day.\n    * `predictions_template_df`: DataFrame with `assetCode` and `confidenceValue` columns, prefilled with `confidenceValue = 0`, to be filled in and passed back to the `predict` function.\n* If `predict` has not been called since the last yield, yields `None`."
    },
    {
      "metadata": {
        "trusted": true,
        "_uuid": "724c38149860c8e9058474ac9045c2301e8a20da"
      },
      "cell_type": "code",
      "source": "# You can only iterate through a result from `get_prediction_days()` once\n# so be careful not to lose it once you start iterating.\ndays = env.get_prediction_days()",
      "execution_count": null,
      "outputs": []
    },
    {
      "metadata": {
        "trusted": true,
        "_uuid": "8d5781f889893e3e34b054687fd538c1a76bfdcc"
      },
      "cell_type": "code",
      "source": "(market_obs_df, news_obs_df, predictions_template_df) = next(days)",
      "execution_count": null,
      "outputs": []
    },
    {
      "metadata": {
        "trusted": true,
        "_uuid": "fe1cb6accc3536258e7687c64ab3e5e5caa6334a"
      },
      "cell_type": "code",
      "source": "market_obs_df.head()",
      "execution_count": null,
      "outputs": []
    },
    {
      "metadata": {
        "trusted": true,
        "_uuid": "11c5b072aefdd54e6fbe9ae71dc3ea41909ade19"
      },
      "cell_type": "code",
      "source": "news_obs_df.head()",
      "execution_count": null,
      "outputs": []
    },
    {
      "metadata": {
        "trusted": true,
        "_uuid": "f99f6364881767a4071da9ea19e18163a7ce066b"
      },
      "cell_type": "code",
      "source": "predictions_template_df.head()",
      "execution_count": null,
      "outputs": []
    },
    {
      "metadata": {
        "_uuid": "11e95f2e3d493ee6e1023c7a4191310adde5d2bf"
      },
      "cell_type": "markdown",
      "source": "Note that we'll get an error if we try to continue on to the next prediction day without making our predictions for the current day."
    },
    {
      "metadata": {
        "trusted": true,
        "_uuid": "b8ac953a3afbfca2fb200bbf8f0f7339bec7e6f1"
      },
      "cell_type": "code",
      "source": "next(days)",
      "execution_count": null,
      "outputs": []
    },
    {
      "metadata": {
        "trusted": true,
        "_uuid": "ba72731adf652d6011652e906d8b340d6572904e"
      },
      "cell_type": "markdown",
      "source": "### **`predict`** function\nStores your predictions for the current prediction day.  Expects the same format as you saw in `predictions_template_df` returned from `get_prediction_days`.\n\nArgs:\n* `predictions_df`: DataFrame which must have the following columns:\n    * `assetCode`: The market asset.\n    * `confidenceValue`: Your confidence whether the asset will increase or decrease in 10 trading days.  All values must be in the range `[-1.0, 1.0]`.\n\nThe `predictions_df` you send **must** contain the exact set of rows which were given to you in the `predictions_template_df` returned from `get_prediction_days`.  The `predict` function does not validate this, but if you are missing any `assetCode`s or add any extraneous `assetCode`s, then your submission will fail."
    },
    {
      "metadata": {
        "_uuid": "9cd8317a5e52180b592ee2abc1d2177214642a3c"
      },
      "cell_type": "markdown",
      "source": "Let's make random predictions for the first day:"
    },
    {
      "metadata": {
        "trusted": true,
        "_uuid": "a3f2197ed790f1aff1356a6954575fde976a4935"
      },
      "cell_type": "code",
      "source": "import numpy as np\ndef make_random_predictions(predictions_df):\n    predictions_df.confidenceValue = 2.0 * np.random.rand(len(predictions_df)) - 1.0",
      "execution_count": null,
      "outputs": []
    },
    {
      "metadata": {
        "trusted": true,
        "_uuid": "ca72b7003f24f4aa0c4afe25b600aae31abd64d5"
      },
      "cell_type": "code",
      "source": "make_random_predictions(predictions_template_df)\nenv.predict(predictions_template_df)",
      "execution_count": null,
      "outputs": []
    },
    {
      "metadata": {
        "_uuid": "ff62c167b459c5895383fb05fd9260c14be8c1b8"
      },
      "cell_type": "markdown",
      "source": "Now we can continue on to the next prediction day and make another round of random predictions for it:"
    },
    {
      "metadata": {
        "trusted": true,
        "_uuid": "4e2293d44aad86d09d25326c4ede6f566ab69721"
      },
      "cell_type": "code",
      "source": "(market_obs_df, news_obs_df, predictions_template_df) = next(days)",
      "execution_count": null,
      "outputs": []
    },
    {
      "metadata": {
        "trusted": true,
        "_uuid": "140aee54dc838549f87f041a97c7a809ee4e0f6f"
      },
      "cell_type": "code",
      "source": "market_obs_df.head()",
      "execution_count": null,
      "outputs": []
    },
    {
      "metadata": {
        "trusted": true,
        "_uuid": "b02d43dec4b881564cd43ff6239c7aa97d94a7af"
      },
      "cell_type": "code",
      "source": "news_obs_df.head()",
      "execution_count": null,
      "outputs": []
    },
    {
      "metadata": {
        "trusted": true,
        "_uuid": "5233f1b22f5ddac08adb50bbaa6444a0da4a24bc"
      },
      "cell_type": "code",
      "source": "predictions_template_df.head()",
      "execution_count": null,
      "outputs": []
    },
    {
      "metadata": {
        "trusted": true,
        "_uuid": "a19142739096135d237e2837d8e10c992e53a6e5"
      },
      "cell_type": "code",
      "source": "make_random_predictions(predictions_template_df)\nenv.predict(predictions_template_df)",
      "execution_count": null,
      "outputs": []
    },
    {
      "metadata": {
        "_uuid": "8056b881707072c379ad2e89b9c59c3c041a2ab7"
      },
      "cell_type": "markdown",
      "source": "## Main Loop\nLet's loop through all the days and make our random predictions.  The `days` generator (returned from `get_prediction_days`) will simply stop returning values once you've reached the end."
    },
    {
      "metadata": {
        "trusted": true,
        "_uuid": "ef60bc52a8a228e5a2ce18e4bd416f1f1f25aeae"
      },
      "cell_type": "code",
      "source": "for (market_obs_df, news_obs_df, predictions_template_df) in days:\n    make_random_predictions(predictions_template_df)\n    env.predict(predictions_template_df)\nprint('Done!')",
      "execution_count": null,
      "outputs": []
    },
    {
      "metadata": {
        "_uuid": "7c8fbcca87c7f6abc53e86408417bf12ce21bb7f"
      },
      "cell_type": "markdown",
      "source": "## **`write_submission_file`** function\n\nWrites your predictions to a CSV file (`submission.csv`) in the current working directory."
    },
    {
      "metadata": {
        "trusted": true,
        "_uuid": "2c8ed34ffb2c47c6e124530ec798c0b4eb01ddd5"
      },
      "cell_type": "code",
      "source": "env.write_submission_file()",
      "execution_count": null,
      "outputs": []
    },
    {
      "metadata": {
        "trusted": true,
        "_uuid": "d38aa8a67cad3f0c105db7e764ec9b805db39ceb"
      },
      "cell_type": "code",
      "source": "# We've got a submission file!\nimport os\nprint([filename for filename in os.listdir('.') if '.csv' in filename])",
      "execution_count": null,
      "outputs": []
    },
    {
      "metadata": {
        "_uuid": "f464f37885ffa763a2592e2867d74685f75be506"
      },
      "cell_type": "markdown",
      "source": "As indicated by the helper message, calling `write_submission_file` on its own does **not** make a submission to the competition.  It merely tells the module to write the `submission.csv` file as part of the Kernel's output.  To make a submission to the competition, you'll have to **Commit** your Kernel and find the generated `submission.csv` file in that Kernel Version's Output tab (note this is _outside_ of the Kernel Editor), then click \"Submit to Competition\".  When we re-run your Kernel during Stage Two, we will run the Kernel Version (generated when you hit \"Commit\") linked to your chosen Submission."
    },
    {
      "metadata": {
        "_uuid": "2e3a267ea3149403c49ff59515a1a669ca2d1f9f"
      },
      "cell_type": "markdown",
      "source": "## Restart the Kernel to run your code again\nIn order to combat cheating, you are only allowed to call `make_env` or iterate through `get_prediction_days` once per Kernel run.  However, while you're iterating on your model it's reasonable to try something out, change the model a bit, and try it again.  Unfortunately, if you try to simply re-run the code, or even refresh the browser page, you'll still be running on the same Kernel execution session you had been running before, and the `twosigmanews` module will still throw errors.  To get around this, you need to explicitly restart your Kernel execution session, which you can do by pressing the Restart button in the Kernel Editor's bottom Console tab:\n![Restart button](https://i.imgur.com/hudu8jF.png)"
    }
  ],
  "metadata": {
    "kernelspec": {
      "display_name": "Python 3",
      "language": "python",
      "name": "python3"
    },
    "language_info": {
      "name": "python",
      "version": "3.6.6",
      "mimetype": "text/x-python",
      "codemirror_mode": {
        "name": "ipython",
        "version": 3
      },
      "pygments_lexer": "ipython3",
      "nbconvert_exporter": "python",
      "file_extension": ".py"
    }
  },
  "nbformat": 4,
  "nbformat_minor": 1
}