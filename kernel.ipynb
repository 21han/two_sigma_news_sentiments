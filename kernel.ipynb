{
  "cells": [
    {
      "metadata": {
        "_uuid": "5ffb21374c7cf4b98e7239045ef9bf312effee25"
      },
      "cell_type": "markdown",
      "source": "# Two Sigma Financial News Competition Official Getting Started Kernel\n## Introduction\nIn this competition you will predict how stocks will change based on the market state and news articles.  You will loop through a long series of trading days; for each day, you'll receive an updated state of the market, and a series of news articles which were published since the last trading day, along with impacted stocks and sentiment analysis.  You'll use this information to predict whether each stock will have increased or decreased ten trading days into the future.  Once you make these predictions, you can move on to the next trading day. \n\nThis competition is different from most Kaggle Competitions in that:\n* You can only submit from Kaggle Kernels, and you may not use other data sources, GPU, or internet access.\n* This is a **two-stage competition**.  In Stage One you can edit your Kernels and improve your model, where Public Leaderboard scores are based on their predictions relative to past market data.  At the beginning of Stage Two, your Kernels are locked, and we will re-run your Kernels over the next six months, scoring them based on their predictions relative to live data as those six months unfold.\n* You must use our custom **`kaggle.competitions.twosigmanews`** Python module.  The purpose of this module is to control the flow of information to ensure that you are not using future data to make predictions for the current trading day.\n\n## In this Starter Kernel, we'll show how to use the **`twosigmanews`** module to get the training data, get test features and make predictions, and write the submission file.\n## TL;DR: End-to-End Usage Example\n```\nfrom kaggle.competitions import twosigmanews\nenv = twosigmanews.make_env()\n\n(market_train_df, news_train_df) = env.get_training_data()\ntrain_my_model(market_train_df, news_train_df)\n\nfor (market_obs_df, news_obs_df, predictions_template_df) in env.get_prediction_days():\n  predictions_df = make_my_predictions(market_obs_df, news_obs_df, predictions_template_df)\n  env.predict(predictions_df)\n  \nenv.write_submission_file()\n```\nNote that `train_my_model` and `make_my_predictions` are functions you need to write for the above example to work."
    },
    {
      "metadata": {
        "_uuid": "225708f447eee93041881f9d6c3a3e890cb16718"
      },
      "cell_type": "markdown",
      "source": "## In-depth Introduction\nFirst let's import the module and create an environment."
    },
    {
      "metadata": {
        "_uuid": "8f2839f25d086af736a60e9eeb907d3b93b6e0e5",
        "_cell_guid": "b1076dfc-b9ad-4769-8c92-a6c4dae69d19",
        "trusted": true
      },
      "cell_type": "code",
      "source": "from kaggle.competitions import twosigmanews\n# You can only call make_env() once, so don't lose it!\nenv = twosigmanews.make_env()",
      "execution_count": 1,
      "outputs": [
        {
          "output_type": "stream",
          "text": "Loading the data... This could take a minute.\nDone!\n",
          "name": "stdout"
        }
      ]
    },
    {
      "metadata": {
        "_uuid": "6034b46fce8c9d55d403de32e7cebe8cb9fef96d"
      },
      "cell_type": "markdown",
      "source": "## **`get_training_data`** function\n\nReturns the training data DataFrames as a tuple of:\n* `market_train_df`: DataFrame with market training data\n* `news_train_df`: DataFrame with news training data\n\nThese DataFrames contain all market and news data from February 2007 to December 2016.  See the [competition's Data tab](https://www.kaggle.com/c/two-sigma-financial-news/data) for more information on what columns are included in each DataFrame."
    },
    {
      "metadata": {
        "trusted": true,
        "_uuid": "c20fa6deeac9d374c98774abd90bdc76b023ee63"
      },
      "cell_type": "code",
      "source": "(market_train_df, news_train_df) = env.get_training_data()",
      "execution_count": 2,
      "outputs": []
    },
    {
      "metadata": {
        "trusted": true,
        "_uuid": "6811a1a76f08b2a029543cf73bcdf4dfca7dc362"
      },
      "cell_type": "code",
      "source": "market_train_df.shape",
      "execution_count": 4,
      "outputs": [
        {
          "output_type": "execute_result",
          "execution_count": 4,
          "data": {
            "text/plain": "(4072956, 16)"
          },
          "metadata": {}
        }
      ]
    },
    {
      "metadata": {
        "trusted": true,
        "_uuid": "25115010e14ef3497932902db0cef68501ddca11"
      },
      "cell_type": "code",
      "source": "news_train_df.shape",
      "execution_count": 7,
      "outputs": [
        {
          "output_type": "execute_result",
          "execution_count": 7,
          "data": {
            "text/plain": "(9328750, 35)"
          },
          "metadata": {}
        }
      ]
    },
    {
      "metadata": {
        "trusted": true,
        "_uuid": "840aa03b49d675953f080e4069f79f435282bb43"
      },
      "cell_type": "markdown",
      "source": "## `get_prediction_days` function\n\nGenerator which loops through each \"prediction day\" (trading day) and provides all market and news observations which occurred since the last data you've received.  Once you call **`predict`** to make your future predictions, you can continue on to the next prediction day.\n\nYields:\n* While there are more prediction day(s) and `predict` was called successfully since the last yield, yields a tuple of:\n    * `market_observations_df`: DataFrame with market observations for the next prediction day.\n    * `news_observations_df`: DataFrame with news observations for the next prediction day.\n    * `predictions_template_df`: DataFrame with `assetCode` and `confidenceValue` columns, prefilled with `confidenceValue = 0`, to be filled in and passed back to the `predict` function.\n* If `predict` has not been called since the last yield, yields `None`."
    },
    {
      "metadata": {
        "trusted": true,
        "_uuid": "724c38149860c8e9058474ac9045c2301e8a20da"
      },
      "cell_type": "code",
      "source": "# You can only iterate through a result from `get_prediction_days()` once\n# so be careful not to lose it once you start iterating.\ndays = env.get_prediction_days()",
      "execution_count": 15,
      "outputs": []
    },
    {
      "metadata": {
        "trusted": true,
        "_uuid": "8d5781f889893e3e34b054687fd538c1a76bfdcc"
      },
      "cell_type": "code",
      "source": "(market_obs_df, news_obs_df, predictions_template_df) = next(days)",
      "execution_count": 16,
      "outputs": [
        {
          "output_type": "error",
          "ename": "Exception",
          "evalue": "You can only call `get_prediction_days` once.",
          "traceback": [
            "\u001b[0;31m---------------------------------------------------------------------------\u001b[0m",
            "\u001b[0;31mException\u001b[0m                                 Traceback (most recent call last)",
            "\u001b[0;32m<ipython-input-16-a659b27ff369>\u001b[0m in \u001b[0;36m<module>\u001b[0;34m\u001b[0m\n\u001b[0;32m----> 1\u001b[0;31m \u001b[0;34m(\u001b[0m\u001b[0mmarket_obs_df\u001b[0m\u001b[0;34m,\u001b[0m \u001b[0mnews_obs_df\u001b[0m\u001b[0;34m,\u001b[0m \u001b[0mpredictions_template_df\u001b[0m\u001b[0;34m)\u001b[0m \u001b[0;34m=\u001b[0m \u001b[0mnext\u001b[0m\u001b[0;34m(\u001b[0m\u001b[0mdays\u001b[0m\u001b[0;34m)\u001b[0m\u001b[0;34m\u001b[0m\u001b[0m\n\u001b[0m",
            "\u001b[0;32m/kaggle/lib/kaggle/competitions/twosigmanews/env.py\u001b[0m in \u001b[0;36mget_prediction_days\u001b[0;34m(self)\u001b[0m\n\u001b[1;32m    230\u001b[0m         \"\"\"\n\u001b[1;32m    231\u001b[0m         \u001b[0;32mif\u001b[0m \u001b[0mTwoSigmaNewsEnv\u001b[0m\u001b[0;34m.\u001b[0m\u001b[0m_state\u001b[0m \u001b[0;34m!=\u001b[0m \u001b[0m_var00\u001b[0m\u001b[0;34m.\u001b[0m\u001b[0m_var01\u001b[0m\u001b[0;34m:\u001b[0m\u001b[0;34m\u001b[0m\u001b[0m\n\u001b[0;32m--> 232\u001b[0;31m             \u001b[0;32mraise\u001b[0m \u001b[0mException\u001b[0m\u001b[0;34m(\u001b[0m\u001b[0;34m'You can only call `get_prediction_days` once.'\u001b[0m\u001b[0;34m)\u001b[0m\u001b[0;34m\u001b[0m\u001b[0m\n\u001b[0m\u001b[1;32m    233\u001b[0m \u001b[0;34m\u001b[0m\u001b[0m\n\u001b[1;32m    234\u001b[0m \u001b[0;34m\u001b[0m\u001b[0m\n",
            "\u001b[0;31mException\u001b[0m: You can only call `get_prediction_days` once."
          ]
        }
      ]
    },
    {
      "metadata": {
        "trusted": true,
        "_uuid": "fe1cb6accc3536258e7687c64ab3e5e5caa6334a"
      },
      "cell_type": "code",
      "source": "market_obs_df.head(10)",
      "execution_count": 24,
      "outputs": [
        {
          "output_type": "execute_result",
          "execution_count": 24,
          "data": {
            "text/plain": "                       time           ...           returnsOpenPrevMktres10\n0 2017-01-03 22:00:00+00:00           ...                          0.001985\n1 2017-01-03 22:00:00+00:00           ...                               NaN\n2 2017-01-03 22:00:00+00:00           ...                         -0.015277\n3 2017-01-03 22:00:00+00:00           ...                          0.011201\n4 2017-01-03 22:00:00+00:00           ...                         -0.010078\n5 2017-01-03 22:00:00+00:00           ...                          0.002888\n6 2017-01-03 22:00:00+00:00           ...                          0.014276\n7 2017-01-03 22:00:00+00:00           ...                          0.019393\n8 2017-01-03 22:00:00+00:00           ...                          0.016566\n9 2017-01-03 22:00:00+00:00           ...                          0.018003\n\n[10 rows x 14 columns]",
            "text/html": "<div>\n<style scoped>\n    .dataframe tbody tr th:only-of-type {\n        vertical-align: middle;\n    }\n\n    .dataframe tbody tr th {\n        vertical-align: top;\n    }\n\n    .dataframe thead th {\n        text-align: right;\n    }\n</style>\n<table border=\"1\" class=\"dataframe\">\n  <thead>\n    <tr style=\"text-align: right;\">\n      <th></th>\n      <th>time</th>\n      <th>assetCode</th>\n      <th>assetName</th>\n      <th>volume</th>\n      <th>close</th>\n      <th>open</th>\n      <th>returnsClosePrevRaw1</th>\n      <th>returnsOpenPrevRaw1</th>\n      <th>returnsClosePrevMktres1</th>\n      <th>returnsOpenPrevMktres1</th>\n      <th>returnsClosePrevRaw10</th>\n      <th>returnsOpenPrevRaw10</th>\n      <th>returnsClosePrevMktres10</th>\n      <th>returnsOpenPrevMktres10</th>\n    </tr>\n  </thead>\n  <tbody>\n    <tr>\n      <th>0</th>\n      <td>2017-01-03 22:00:00+00:00</td>\n      <td>A.N</td>\n      <td>Agilent Technologies Inc</td>\n      <td>1739726.0</td>\n      <td>46.49</td>\n      <td>45.93</td>\n      <td>0.020413</td>\n      <td>0.003715</td>\n      <td>0.009812</td>\n      <td>0.003744</td>\n      <td>0.015565</td>\n      <td>-0.011736</td>\n      <td>0.015757</td>\n      <td>0.001985</td>\n    </tr>\n    <tr>\n      <th>1</th>\n      <td>2017-01-03 22:00:00+00:00</td>\n      <td>AA.N</td>\n      <td>Alcoa Corp</td>\n      <td>2746634.0</td>\n      <td>28.83</td>\n      <td>28.60</td>\n      <td>0.026709</td>\n      <td>-0.012772</td>\n      <td>0.015256</td>\n      <td>-0.012756</td>\n      <td>-0.019388</td>\n      <td>-0.035413</td>\n      <td>NaN</td>\n      <td>NaN</td>\n    </tr>\n    <tr>\n      <th>2</th>\n      <td>2017-01-03 22:00:00+00:00</td>\n      <td>AAL.O</td>\n      <td>American Airlines Group Inc</td>\n      <td>6737752.0</td>\n      <td>46.30</td>\n      <td>47.28</td>\n      <td>-0.008353</td>\n      <td>-0.002952</td>\n      <td>-0.026595</td>\n      <td>-0.002917</td>\n      <td>-0.027924</td>\n      <td>-0.027361</td>\n      <td>-0.027729</td>\n      <td>-0.015277</td>\n    </tr>\n    <tr>\n      <th>3</th>\n      <td>2017-01-03 22:00:00+00:00</td>\n      <td>AAN.N</td>\n      <td>Aaron's Inc</td>\n      <td>760498.0</td>\n      <td>31.90</td>\n      <td>32.40</td>\n      <td>-0.002813</td>\n      <td>0.010290</td>\n      <td>-0.020835</td>\n      <td>0.010329</td>\n      <td>-0.026846</td>\n      <td>-0.021739</td>\n      <td>-0.026324</td>\n      <td>0.011201</td>\n    </tr>\n    <tr>\n      <th>4</th>\n      <td>2017-01-03 22:00:00+00:00</td>\n      <td>AAP.N</td>\n      <td>Advance Auto Parts Inc</td>\n      <td>691526.0</td>\n      <td>170.60</td>\n      <td>170.78</td>\n      <td>0.008751</td>\n      <td>-0.003152</td>\n      <td>-0.001344</td>\n      <td>-0.003128</td>\n      <td>-0.007281</td>\n      <td>-0.014546</td>\n      <td>-0.007198</td>\n      <td>-0.010078</td>\n    </tr>\n    <tr>\n      <th>5</th>\n      <td>2017-01-03 22:00:00+00:00</td>\n      <td>AAPL.O</td>\n      <td>Apple Inc</td>\n      <td>28781865.0</td>\n      <td>116.15</td>\n      <td>115.80</td>\n      <td>0.002849</td>\n      <td>-0.007287</td>\n      <td>-0.003841</td>\n      <td>-0.007265</td>\n      <td>0.001552</td>\n      <td>-0.005753</td>\n      <td>0.001670</td>\n      <td>0.002888</td>\n    </tr>\n    <tr>\n      <th>6</th>\n      <td>2017-01-03 22:00:00+00:00</td>\n      <td>ABB.N</td>\n      <td>ABB Ltd</td>\n      <td>2009610.0</td>\n      <td>21.28</td>\n      <td>21.14</td>\n      <td>0.009967</td>\n      <td>-0.005644</td>\n      <td>0.004332</td>\n      <td>-0.005634</td>\n      <td>0.015267</td>\n      <td>0.010033</td>\n      <td>0.015339</td>\n      <td>0.014276</td>\n    </tr>\n    <tr>\n      <th>7</th>\n      <td>2017-01-03 22:00:00+00:00</td>\n      <td>ABBV.N</td>\n      <td>AbbVie Inc</td>\n      <td>9328198.0</td>\n      <td>62.41</td>\n      <td>62.92</td>\n      <td>-0.003354</td>\n      <td>0.003045</td>\n      <td>-0.002449</td>\n      <td>0.003055</td>\n      <td>0.003054</td>\n      <td>0.012878</td>\n      <td>0.003129</td>\n      <td>0.019393</td>\n    </tr>\n    <tr>\n      <th>8</th>\n      <td>2017-01-03 22:00:00+00:00</td>\n      <td>ABC.N</td>\n      <td>AmerisourceBergen Corp</td>\n      <td>4134229.0</td>\n      <td>82.61</td>\n      <td>78.51</td>\n      <td>0.056529</td>\n      <td>-0.010586</td>\n      <td>0.045927</td>\n      <td>-0.010582</td>\n      <td>0.067589</td>\n      <td>0.020406</td>\n      <td>0.067513</td>\n      <td>0.016566</td>\n    </tr>\n    <tr>\n      <th>9</th>\n      <td>2017-01-03 22:00:00+00:00</td>\n      <td>ABCO.O</td>\n      <td>Advisory Board Co</td>\n      <td>518959.0</td>\n      <td>34.40</td>\n      <td>33.45</td>\n      <td>0.034586</td>\n      <td>0.018265</td>\n      <td>0.028449</td>\n      <td>0.018302</td>\n      <td>0.060092</td>\n      <td>0.022936</td>\n      <td>0.059964</td>\n      <td>0.018003</td>\n    </tr>\n  </tbody>\n</table>\n</div>"
          },
          "metadata": {}
        }
      ]
    },
    {
      "metadata": {
        "trusted": true,
        "_uuid": "11c5b072aefdd54e6fbe9ae71dc3ea41909ade19"
      },
      "cell_type": "code",
      "source": "news_obs_df.head(10)",
      "execution_count": 25,
      "outputs": [
        {
          "output_type": "execute_result",
          "execution_count": 25,
          "data": {
            "text/plain": "                       time      ...       volumeCounts7D\n0 2016-12-30 22:00:02+00:00      ...                    0\n1 2016-12-30 22:00:02+00:00      ...                    0\n2 2016-12-30 22:00:06+00:00      ...                    0\n3 2016-12-30 22:00:06+00:00      ...                    2\n4 2016-12-30 22:00:17+00:00      ...                    1\n5 2016-12-30 22:00:30+00:00      ...                    3\n6 2016-12-30 22:00:30+00:00      ...                    1\n7 2016-12-30 22:00:39+00:00      ...                    1\n8 2016-12-30 22:00:39+00:00      ...                    5\n9 2016-12-30 22:01:01+00:00      ...                    2\n\n[10 rows x 35 columns]",
            "text/html": "<div>\n<style scoped>\n    .dataframe tbody tr th:only-of-type {\n        vertical-align: middle;\n    }\n\n    .dataframe tbody tr th {\n        vertical-align: top;\n    }\n\n    .dataframe thead th {\n        text-align: right;\n    }\n</style>\n<table border=\"1\" class=\"dataframe\">\n  <thead>\n    <tr style=\"text-align: right;\">\n      <th></th>\n      <th>time</th>\n      <th>sourceTimestamp</th>\n      <th>firstCreated</th>\n      <th>sourceId</th>\n      <th>headline</th>\n      <th>urgency</th>\n      <th>takeSequence</th>\n      <th>provider</th>\n      <th>subjects</th>\n      <th>audiences</th>\n      <th>bodySize</th>\n      <th>companyCount</th>\n      <th>headlineTag</th>\n      <th>marketCommentary</th>\n      <th>sentenceCount</th>\n      <th>wordCount</th>\n      <th>assetCodes</th>\n      <th>assetName</th>\n      <th>firstMentionSentence</th>\n      <th>relevance</th>\n      <th>sentimentClass</th>\n      <th>sentimentNegative</th>\n      <th>sentimentNeutral</th>\n      <th>sentimentPositive</th>\n      <th>sentimentWordCount</th>\n      <th>noveltyCount12H</th>\n      <th>noveltyCount24H</th>\n      <th>noveltyCount3D</th>\n      <th>noveltyCount5D</th>\n      <th>noveltyCount7D</th>\n      <th>volumeCounts12H</th>\n      <th>volumeCounts24H</th>\n      <th>volumeCounts3D</th>\n      <th>volumeCounts5D</th>\n      <th>volumeCounts7D</th>\n    </tr>\n  </thead>\n  <tbody>\n    <tr>\n      <th>0</th>\n      <td>2016-12-30 22:00:02+00:00</td>\n      <td>2016-12-30 22:00:02+00:00</td>\n      <td>2016-12-30 22:00:02+00:00</td>\n      <td>02ae05e4a5650826</td>\n      <td>Enstar Announces Acquisition of Dana Companies...</td>\n      <td>3</td>\n      <td>1</td>\n      <td>GNW</td>\n      <td>{'MRG', 'MINS', 'NEWR', 'INSR', 'BACT', 'BM', ...</td>\n      <td>{'CNR', 'GNWN'}</td>\n      <td>3742</td>\n      <td>1</td>\n      <td></td>\n      <td>False</td>\n      <td>19</td>\n      <td>575</td>\n      <td>{'ESGR.OQ', 'ESGR.O'}</td>\n      <td>Enstar Group Ltd</td>\n      <td>1</td>\n      <td>1.0</td>\n      <td>1</td>\n      <td>0.222786</td>\n      <td>0.382740</td>\n      <td>0.394474</td>\n      <td>555</td>\n      <td>0</td>\n      <td>0</td>\n      <td>0</td>\n      <td>0</td>\n      <td>0</td>\n      <td>0</td>\n      <td>0</td>\n      <td>0</td>\n      <td>0</td>\n      <td>0</td>\n    </tr>\n    <tr>\n      <th>1</th>\n      <td>2016-12-30 22:00:02+00:00</td>\n      <td>2016-12-30 22:00:02+00:00</td>\n      <td>2016-12-30 22:00:02+00:00</td>\n      <td>8a59a41e3dc3f255</td>\n      <td>ENSTAR ANNOUNCES ACQUISITION OF DANA COMPANIES</td>\n      <td>1</td>\n      <td>1</td>\n      <td>RTRS</td>\n      <td>{'BLR', 'MINS', 'INSR', 'FINS', 'US', 'CMPNY',...</td>\n      <td>{'E', 'U'}</td>\n      <td>0</td>\n      <td>1</td>\n      <td></td>\n      <td>False</td>\n      <td>1</td>\n      <td>7</td>\n      <td>{'ESGR.OQ', 'ESGR.O'}</td>\n      <td>Enstar Group Ltd</td>\n      <td>1</td>\n      <td>1.0</td>\n      <td>0</td>\n      <td>0.172375</td>\n      <td>0.611033</td>\n      <td>0.216592</td>\n      <td>7</td>\n      <td>0</td>\n      <td>0</td>\n      <td>0</td>\n      <td>0</td>\n      <td>0</td>\n      <td>0</td>\n      <td>0</td>\n      <td>0</td>\n      <td>0</td>\n      <td>0</td>\n    </tr>\n    <tr>\n      <th>2</th>\n      <td>2016-12-30 22:00:06+00:00</td>\n      <td>2016-12-30 22:00:06+00:00</td>\n      <td>2016-12-30 22:00:02+00:00</td>\n      <td>c8ee6bcb3de3a944</td>\n      <td>ENSTAR ANNOUNCES ACQUISITION OF DANA COMPANIES</td>\n      <td>1</td>\n      <td>2</td>\n      <td>RTRS</td>\n      <td>{'BLR', 'AUTO', 'MINS', 'CYCS', 'INSR', 'FINS'...</td>\n      <td>{'E', 'U'}</td>\n      <td>0</td>\n      <td>2</td>\n      <td></td>\n      <td>False</td>\n      <td>1</td>\n      <td>7</td>\n      <td>{'DAN.N'}</td>\n      <td>Dana Inc</td>\n      <td>1</td>\n      <td>1.0</td>\n      <td>0</td>\n      <td>0.172375</td>\n      <td>0.611033</td>\n      <td>0.216592</td>\n      <td>7</td>\n      <td>0</td>\n      <td>0</td>\n      <td>0</td>\n      <td>0</td>\n      <td>0</td>\n      <td>0</td>\n      <td>0</td>\n      <td>0</td>\n      <td>0</td>\n      <td>0</td>\n    </tr>\n    <tr>\n      <th>3</th>\n      <td>2016-12-30 22:00:06+00:00</td>\n      <td>2016-12-30 22:00:06+00:00</td>\n      <td>2016-12-30 22:00:02+00:00</td>\n      <td>c8ee6bcb3de3a944</td>\n      <td>ENSTAR ANNOUNCES ACQUISITION OF DANA COMPANIES</td>\n      <td>1</td>\n      <td>2</td>\n      <td>RTRS</td>\n      <td>{'BLR', 'AUTO', 'MINS', 'CYCS', 'INSR', 'FINS'...</td>\n      <td>{'E', 'U'}</td>\n      <td>0</td>\n      <td>2</td>\n      <td></td>\n      <td>False</td>\n      <td>1</td>\n      <td>7</td>\n      <td>{'ESGR.OQ', 'ESGR.O'}</td>\n      <td>Enstar Group Ltd</td>\n      <td>1</td>\n      <td>1.0</td>\n      <td>0</td>\n      <td>0.172375</td>\n      <td>0.611033</td>\n      <td>0.216592</td>\n      <td>7</td>\n      <td>2</td>\n      <td>2</td>\n      <td>2</td>\n      <td>2</td>\n      <td>2</td>\n      <td>2</td>\n      <td>2</td>\n      <td>2</td>\n      <td>2</td>\n      <td>2</td>\n    </tr>\n    <tr>\n      <th>4</th>\n      <td>2016-12-30 22:00:17+00:00</td>\n      <td>2016-12-30 22:00:17+00:00</td>\n      <td>2016-12-30 21:33:44+00:00</td>\n      <td>58ea9d8a0be61c03</td>\n      <td>BRIEF-Axovant Sciences files for mixed shelf o...</td>\n      <td>3</td>\n      <td>1</td>\n      <td>RTRS</td>\n      <td>{'BLR', 'SISU', 'INDU', 'DBT', 'HECA', 'PHMR',...</td>\n      <td>{'PCO', 'PCU', 'DNP', 'PSC', 'U', 'RNP', 'NAW'...</td>\n      <td>239</td>\n      <td>1</td>\n      <td>BRIEF</td>\n      <td>False</td>\n      <td>4</td>\n      <td>65</td>\n      <td>{'AXON.N'}</td>\n      <td>Axovant Sciences Ltd</td>\n      <td>1</td>\n      <td>1.0</td>\n      <td>0</td>\n      <td>0.307338</td>\n      <td>0.378957</td>\n      <td>0.313705</td>\n      <td>58</td>\n      <td>1</td>\n      <td>1</td>\n      <td>1</td>\n      <td>1</td>\n      <td>1</td>\n      <td>1</td>\n      <td>1</td>\n      <td>1</td>\n      <td>1</td>\n      <td>1</td>\n    </tr>\n    <tr>\n      <th>5</th>\n      <td>2016-12-30 22:00:30+00:00</td>\n      <td>2016-12-30 22:00:30+00:00</td>\n      <td>2016-12-30 22:00:02+00:00</td>\n      <td>091670975b204bb4</td>\n      <td>ENSTAR GROUP LTD - DEAL FOR $91.5 MLN</td>\n      <td>1</td>\n      <td>3</td>\n      <td>RTRS</td>\n      <td>{'BLR', 'AUTO', 'MINS', 'CYCS', 'INSR', 'FINS'...</td>\n      <td>{'E', 'U'}</td>\n      <td>0</td>\n      <td>2</td>\n      <td></td>\n      <td>False</td>\n      <td>1</td>\n      <td>10</td>\n      <td>{'ESGR.OQ', 'ESGR.O'}</td>\n      <td>Enstar Group Ltd</td>\n      <td>1</td>\n      <td>1.0</td>\n      <td>1</td>\n      <td>0.006567</td>\n      <td>0.432727</td>\n      <td>0.560706</td>\n      <td>10</td>\n      <td>0</td>\n      <td>0</td>\n      <td>0</td>\n      <td>0</td>\n      <td>0</td>\n      <td>3</td>\n      <td>3</td>\n      <td>3</td>\n      <td>3</td>\n      <td>3</td>\n    </tr>\n    <tr>\n      <th>6</th>\n      <td>2016-12-30 22:00:30+00:00</td>\n      <td>2016-12-30 22:00:30+00:00</td>\n      <td>2016-12-30 22:00:02+00:00</td>\n      <td>091670975b204bb4</td>\n      <td>ENSTAR GROUP LTD - DEAL FOR $91.5 MLN</td>\n      <td>1</td>\n      <td>3</td>\n      <td>RTRS</td>\n      <td>{'BLR', 'AUTO', 'MINS', 'CYCS', 'INSR', 'FINS'...</td>\n      <td>{'E', 'U'}</td>\n      <td>0</td>\n      <td>2</td>\n      <td></td>\n      <td>False</td>\n      <td>1</td>\n      <td>10</td>\n      <td>{'DAN.N'}</td>\n      <td>Dana Inc</td>\n      <td>0</td>\n      <td>1.0</td>\n      <td>1</td>\n      <td>0.006567</td>\n      <td>0.432727</td>\n      <td>0.560706</td>\n      <td>10</td>\n      <td>0</td>\n      <td>0</td>\n      <td>0</td>\n      <td>0</td>\n      <td>0</td>\n      <td>1</td>\n      <td>1</td>\n      <td>1</td>\n      <td>1</td>\n      <td>1</td>\n    </tr>\n    <tr>\n      <th>7</th>\n      <td>2016-12-30 22:00:39+00:00</td>\n      <td>2016-12-30 22:00:39+00:00</td>\n      <td>2016-12-30 22:00:39+00:00</td>\n      <td>39b80eb9f50fc245</td>\n      <td>JPMORGAN CHINA REGION FUND, INC. BOARD TO SUBM...</td>\n      <td>1</td>\n      <td>1</td>\n      <td>RTRS</td>\n      <td>{'BLR', 'INVT', 'LEN', 'FINS', 'US', 'CMPNY', ...</td>\n      <td>{'E', 'U'}</td>\n      <td>0</td>\n      <td>2</td>\n      <td></td>\n      <td>False</td>\n      <td>1</td>\n      <td>19</td>\n      <td>{'JFC.N'}</td>\n      <td>JPMorgan China Region Fund Inc</td>\n      <td>1</td>\n      <td>1.0</td>\n      <td>0</td>\n      <td>0.321686</td>\n      <td>0.375306</td>\n      <td>0.303008</td>\n      <td>19</td>\n      <td>1</td>\n      <td>1</td>\n      <td>1</td>\n      <td>1</td>\n      <td>1</td>\n      <td>1</td>\n      <td>1</td>\n      <td>1</td>\n      <td>1</td>\n      <td>1</td>\n    </tr>\n    <tr>\n      <th>8</th>\n      <td>2016-12-30 22:00:39+00:00</td>\n      <td>2016-12-30 22:00:39+00:00</td>\n      <td>2016-12-30 22:00:39+00:00</td>\n      <td>39b80eb9f50fc245</td>\n      <td>JPMORGAN CHINA REGION FUND, INC. BOARD TO SUBM...</td>\n      <td>1</td>\n      <td>1</td>\n      <td>RTRS</td>\n      <td>{'BLR', 'INVT', 'LEN', 'FINS', 'US', 'CMPNY', ...</td>\n      <td>{'E', 'U'}</td>\n      <td>0</td>\n      <td>2</td>\n      <td></td>\n      <td>False</td>\n      <td>1</td>\n      <td>19</td>\n      <td>{'JPM', 'JPM.DE', 'JPM.N'}</td>\n      <td>JPMorgan Chase &amp; Co</td>\n      <td>1</td>\n      <td>1.0</td>\n      <td>0</td>\n      <td>0.321686</td>\n      <td>0.375306</td>\n      <td>0.303008</td>\n      <td>19</td>\n      <td>0</td>\n      <td>0</td>\n      <td>0</td>\n      <td>0</td>\n      <td>0</td>\n      <td>3</td>\n      <td>4</td>\n      <td>4</td>\n      <td>5</td>\n      <td>5</td>\n    </tr>\n    <tr>\n      <th>9</th>\n      <td>2016-12-30 22:01:01+00:00</td>\n      <td>2016-12-30 22:01:01+00:00</td>\n      <td>2016-12-30 22:00:39+00:00</td>\n      <td>07d091ecbccaceca</td>\n      <td>JPMORGAN CHINA REGION FUND INC - BOARD IS CURR...</td>\n      <td>1</td>\n      <td>2</td>\n      <td>RTRS</td>\n      <td>{'BLR', 'INVT', 'BACT', 'LEN', 'REORG', 'FINS'...</td>\n      <td>{'E', 'U'}</td>\n      <td>0</td>\n      <td>2</td>\n      <td></td>\n      <td>False</td>\n      <td>1</td>\n      <td>19</td>\n      <td>{'JFC.N'}</td>\n      <td>JPMorgan China Region Fund Inc</td>\n      <td>1</td>\n      <td>1.0</td>\n      <td>1</td>\n      <td>0.053507</td>\n      <td>0.196706</td>\n      <td>0.749788</td>\n      <td>19</td>\n      <td>2</td>\n      <td>2</td>\n      <td>2</td>\n      <td>2</td>\n      <td>2</td>\n      <td>2</td>\n      <td>2</td>\n      <td>2</td>\n      <td>2</td>\n      <td>2</td>\n    </tr>\n  </tbody>\n</table>\n</div>"
          },
          "metadata": {}
        }
      ]
    },
    {
      "metadata": {
        "trusted": true,
        "_uuid": "f99f6364881767a4071da9ea19e18163a7ce066b"
      },
      "cell_type": "code",
      "source": "predictions_template_df.head()",
      "execution_count": 22,
      "outputs": [
        {
          "output_type": "execute_result",
          "execution_count": 22,
          "data": {
            "text/plain": "  assetCode  confidenceValue\n0       A.N              0.0\n1      AA.N              0.0\n2     AAL.O              0.0\n3     AAN.N              0.0\n4     AAP.N              0.0",
            "text/html": "<div>\n<style scoped>\n    .dataframe tbody tr th:only-of-type {\n        vertical-align: middle;\n    }\n\n    .dataframe tbody tr th {\n        vertical-align: top;\n    }\n\n    .dataframe thead th {\n        text-align: right;\n    }\n</style>\n<table border=\"1\" class=\"dataframe\">\n  <thead>\n    <tr style=\"text-align: right;\">\n      <th></th>\n      <th>assetCode</th>\n      <th>confidenceValue</th>\n    </tr>\n  </thead>\n  <tbody>\n    <tr>\n      <th>0</th>\n      <td>A.N</td>\n      <td>0.0</td>\n    </tr>\n    <tr>\n      <th>1</th>\n      <td>AA.N</td>\n      <td>0.0</td>\n    </tr>\n    <tr>\n      <th>2</th>\n      <td>AAL.O</td>\n      <td>0.0</td>\n    </tr>\n    <tr>\n      <th>3</th>\n      <td>AAN.N</td>\n      <td>0.0</td>\n    </tr>\n    <tr>\n      <th>4</th>\n      <td>AAP.N</td>\n      <td>0.0</td>\n    </tr>\n  </tbody>\n</table>\n</div>"
          },
          "metadata": {}
        }
      ]
    },
    {
      "metadata": {
        "_uuid": "11e95f2e3d493ee6e1023c7a4191310adde5d2bf"
      },
      "cell_type": "markdown",
      "source": "Note that we'll get an error if we try to continue on to the next prediction day without making our predictions for the current day."
    },
    {
      "metadata": {
        "trusted": true,
        "_uuid": "b8ac953a3afbfca2fb200bbf8f0f7339bec7e6f1"
      },
      "cell_type": "code",
      "source": "next(days)",
      "execution_count": null,
      "outputs": []
    },
    {
      "metadata": {
        "trusted": true,
        "_uuid": "ba72731adf652d6011652e906d8b340d6572904e"
      },
      "cell_type": "markdown",
      "source": "### **`predict`** function\nStores your predictions for the current prediction day.  Expects the same format as you saw in `predictions_template_df` returned from `get_prediction_days`.\n\nArgs:\n* `predictions_df`: DataFrame which must have the following columns:\n    * `assetCode`: The market asset.\n    * `confidenceValue`: Your confidence whether the asset will increase or decrease in 10 trading days.  All values must be in the range `[-1.0, 1.0]`.\n\nThe `predictions_df` you send **must** contain the exact set of rows which were given to you in the `predictions_template_df` returned from `get_prediction_days`.  The `predict` function does not validate this, but if you are missing any `assetCode`s or add any extraneous `assetCode`s, then your submission will fail."
    },
    {
      "metadata": {
        "_uuid": "9cd8317a5e52180b592ee2abc1d2177214642a3c"
      },
      "cell_type": "markdown",
      "source": "Let's make random predictions for the first day:"
    },
    {
      "metadata": {
        "trusted": true,
        "_uuid": "a3f2197ed790f1aff1356a6954575fde976a4935"
      },
      "cell_type": "code",
      "source": "import numpy as np\ndef make_random_predictions(predictions_df):\n    predictions_df.confidenceValue = 2.0 * np.random.rand(len(predictions_df)) - 1.0",
      "execution_count": null,
      "outputs": []
    },
    {
      "metadata": {
        "trusted": true,
        "_uuid": "ca72b7003f24f4aa0c4afe25b600aae31abd64d5"
      },
      "cell_type": "code",
      "source": "make_random_predictions(predictions_template_df)\nenv.predict(predictions_template_df)",
      "execution_count": null,
      "outputs": []
    },
    {
      "metadata": {
        "_uuid": "ff62c167b459c5895383fb05fd9260c14be8c1b8"
      },
      "cell_type": "markdown",
      "source": "Now we can continue on to the next prediction day and make another round of random predictions for it:"
    },
    {
      "metadata": {
        "trusted": true,
        "_uuid": "4e2293d44aad86d09d25326c4ede6f566ab69721"
      },
      "cell_type": "code",
      "source": "(market_obs_df, news_obs_df, predictions_template_df) = next(days)",
      "execution_count": null,
      "outputs": []
    },
    {
      "metadata": {
        "trusted": true,
        "_uuid": "140aee54dc838549f87f041a97c7a809ee4e0f6f"
      },
      "cell_type": "code",
      "source": "market_obs_df.head()",
      "execution_count": null,
      "outputs": []
    },
    {
      "metadata": {
        "trusted": true,
        "_uuid": "b02d43dec4b881564cd43ff6239c7aa97d94a7af"
      },
      "cell_type": "code",
      "source": "news_obs_df.head()",
      "execution_count": null,
      "outputs": []
    },
    {
      "metadata": {
        "trusted": true,
        "_uuid": "5233f1b22f5ddac08adb50bbaa6444a0da4a24bc"
      },
      "cell_type": "code",
      "source": "predictions_template_df.head()",
      "execution_count": null,
      "outputs": []
    },
    {
      "metadata": {
        "trusted": true,
        "_uuid": "a19142739096135d237e2837d8e10c992e53a6e5"
      },
      "cell_type": "code",
      "source": "make_random_predictions(predictions_template_df)\nenv.predict(predictions_template_df)",
      "execution_count": null,
      "outputs": []
    },
    {
      "metadata": {
        "_uuid": "8056b881707072c379ad2e89b9c59c3c041a2ab7"
      },
      "cell_type": "markdown",
      "source": "## Main Loop\nLet's loop through all the days and make our random predictions.  The `days` generator (returned from `get_prediction_days`) will simply stop returning values once you've reached the end."
    },
    {
      "metadata": {
        "trusted": true,
        "_uuid": "ef60bc52a8a228e5a2ce18e4bd416f1f1f25aeae"
      },
      "cell_type": "code",
      "source": "for (market_obs_df, news_obs_df, predictions_template_df) in days:\n    make_random_predictions(predictions_template_df)\n    env.predict(predictions_template_df)\nprint('Done!')",
      "execution_count": null,
      "outputs": []
    },
    {
      "metadata": {
        "_uuid": "7c8fbcca87c7f6abc53e86408417bf12ce21bb7f"
      },
      "cell_type": "markdown",
      "source": "## **`write_submission_file`** function\n\nWrites your predictions to a CSV file (`submission.csv`) in the current working directory."
    },
    {
      "metadata": {
        "trusted": true,
        "_uuid": "ba8f7b83828331d81392b7df044b8323970fbdbd"
      },
      "cell_type": "code",
      "source": "",
      "execution_count": 38,
      "outputs": [
        {
          "output_type": "stream",
          "text": "UsageError: Line magic function `%hostname` not found.\n",
          "name": "stderr"
        }
      ]
    },
    {
      "metadata": {
        "trusted": true,
        "_uuid": "6743f078cf887321f9d1be6429c4fc8bfd021b00"
      },
      "cell_type": "code",
      "source": "pwd",
      "execution_count": 28,
      "outputs": [
        {
          "output_type": "execute_result",
          "execution_count": 28,
          "data": {
            "text/plain": "'/kaggle/working'"
          },
          "metadata": {}
        }
      ]
    },
    {
      "metadata": {
        "trusted": true,
        "_uuid": "e42158f17e53b898730347eb2a9a8373e7357364"
      },
      "cell_type": "code",
      "source": "ls -a",
      "execution_count": 27,
      "outputs": [
        {
          "output_type": "stream",
          "text": "\u001b[0m\u001b[01;34m.\u001b[0m/  \u001b[01;34m..\u001b[0m/  \u001b[01;34m.ipynb_checkpoints\u001b[0m/  __notebook_source__.ipynb\r\n",
          "name": "stdout"
        }
      ]
    },
    {
      "metadata": {
        "trusted": true,
        "_uuid": "2c8ed34ffb2c47c6e124530ec798c0b4eb01ddd5"
      },
      "cell_type": "code",
      "source": "env.write_submission_file()",
      "execution_count": null,
      "outputs": []
    },
    {
      "metadata": {
        "trusted": true,
        "_uuid": "d38aa8a67cad3f0c105db7e764ec9b805db39ceb"
      },
      "cell_type": "code",
      "source": "# We've got a submission file!\nimport os\nprint([filename for filename in os.listdir('.') if '.csv' in filename])",
      "execution_count": null,
      "outputs": []
    },
    {
      "metadata": {
        "_uuid": "f464f37885ffa763a2592e2867d74685f75be506"
      },
      "cell_type": "markdown",
      "source": "As indicated by the helper message, calling `write_submission_file` on its own does **not** make a submission to the competition.  It merely tells the module to write the `submission.csv` file as part of the Kernel's output.  To make a submission to the competition, you'll have to **Commit** your Kernel and find the generated `submission.csv` file in that Kernel Version's Output tab (note this is _outside_ of the Kernel Editor), then click \"Submit to Competition\".  When we re-run your Kernel during Stage Two, we will run the Kernel Version (generated when you hit \"Commit\") linked to your chosen Submission."
    },
    {
      "metadata": {
        "_uuid": "2e3a267ea3149403c49ff59515a1a669ca2d1f9f"
      },
      "cell_type": "markdown",
      "source": "## Restart the Kernel to run your code again\nIn order to combat cheating, you are only allowed to call `make_env` or iterate through `get_prediction_days` once per Kernel run.  However, while you're iterating on your model it's reasonable to try something out, change the model a bit, and try it again.  Unfortunately, if you try to simply re-run the code, or even refresh the browser page, you'll still be running on the same Kernel execution session you had been running before, and the `twosigmanews` module will still throw errors.  To get around this, you need to explicitly restart your Kernel execution session, which you can do by pressing the Restart button in the Kernel Editor's bottom Console tab:\n![Restart button](https://i.imgur.com/hudu8jF.png)"
    }
  ],
  "metadata": {
    "kernelspec": {
      "display_name": "Python 3",
      "language": "python",
      "name": "python3"
    },
    "language_info": {
      "name": "python",
      "version": "3.6.6",
      "mimetype": "text/x-python",
      "codemirror_mode": {
        "name": "ipython",
        "version": 3
      },
      "pygments_lexer": "ipython3",
      "nbconvert_exporter": "python",
      "file_extension": ".py"
    }
  },
  "nbformat": 4,
  "nbformat_minor": 1
}